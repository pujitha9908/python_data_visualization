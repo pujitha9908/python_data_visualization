{
  "nbformat": 4,
  "nbformat_minor": 0,
  "metadata": {
    "colab": {
      "provenance": [],
      "include_colab_link": true
    },
    "kernelspec": {
      "name": "python3",
      "display_name": "Python 3"
    },
    "language_info": {
      "name": "python"
    }
  },
  "cells": [
    {
      "cell_type": "markdown",
      "metadata": {
        "id": "view-in-github",
        "colab_type": "text"
      },
      "source": [
        "<a href=\"https://colab.research.google.com/github/pujitha9908/python_programs/blob/main/python_programs_py.ipynb\" target=\"_parent\"><img src=\"https://colab.research.google.com/assets/colab-badge.svg\" alt=\"Open In Colab\"/></a>"
      ]
    },
    {
      "cell_type": "code",
      "execution_count": null,
      "metadata": {
        "id": "h8omBI0aG_NP",
        "colab": {
          "base_uri": "https://localhost:8080/"
        },
        "outputId": "a1e639f4-ff8a-451b-cc9a-7f10e9c46835"
      },
      "outputs": [
        {
          "output_type": "stream",
          "name": "stdout",
          "text": [
            "3.0\n",
            "4\n",
            "4\n"
          ]
        }
      ],
      "source": [
        "#casting\n",
        "x=float(3)\n",
        "y=int(4)\n",
        "z=int(4.0)\n",
        "print(x)\n",
        "print(y)\n",
        "print(z)"
      ]
    },
    {
      "cell_type": "code",
      "source": [
        "#get the type\n",
        "x=5.09657\n",
        "p=\"krishna\"\n",
        "print(x)\n",
        "print(p)\n",
        "print(type(x))\n",
        "print(type(p))"
      ],
      "metadata": {
        "colab": {
          "base_uri": "https://localhost:8080/"
        },
        "id": "ogZH5RWtOwL5",
        "outputId": "ef907a28-9cc9-4ea8-bbfa-92a93aff5199"
      },
      "execution_count": null,
      "outputs": [
        {
          "output_type": "stream",
          "name": "stdout",
          "text": [
            "5.09657\n",
            "krishna\n",
            "<class 'float'>\n",
            "<class 'str'>\n"
          ]
        }
      ]
    },
    {
      "cell_type": "code",
      "source": [
        "#strings double quotes and singe quotes\n",
        "x=\"pujitha\"\n",
        "p='pujitha'\n",
        "print(x)\n",
        "print(p)"
      ],
      "metadata": {
        "colab": {
          "base_uri": "https://localhost:8080/"
        },
        "id": "kLci-ksoPrH2",
        "outputId": "fc1d520a-d617-4d0b-9795-894a638e1b14"
      },
      "execution_count": null,
      "outputs": [
        {
          "output_type": "stream",
          "name": "stdout",
          "text": [
            "pujitha\n",
            "pujitha\n"
          ]
        }
      ]
    },
    {
      "cell_type": "code",
      "source": [
        "#case sensitive\n",
        "a=4\n",
        "A=\"pujitha\"\n",
        "print(a)\n",
        "print(A)"
      ],
      "metadata": {
        "colab": {
          "base_uri": "https://localhost:8080/"
        },
        "id": "FFnxbc4qQH2h",
        "outputId": "d562206b-da7c-41d9-e6fd-2732b38a4b42"
      },
      "execution_count": null,
      "outputs": [
        {
          "output_type": "stream",
          "name": "stdout",
          "text": [
            "4\n",
            "pujitha\n"
          ]
        }
      ]
    },
    {
      "cell_type": "code",
      "source": [
        "#data types\n",
        "\"\"\"\n",
        "type : none\n",
        "\"\"\"\n",
        "x=None\n",
        "print(type(x))\n",
        "if x:\n",
        "  print(\"none is true\")\n",
        "elif x is False:\n",
        "      print(\"not none\")\n",
        "else:\n",
        "    print(\"pujitha,not none\")\n"
      ],
      "metadata": {
        "colab": {
          "base_uri": "https://localhost:8080/"
        },
        "id": "QUtw3LmCRZNv",
        "outputId": "460da7b1-78f5-4b1f-db5b-2ba4d8cac213"
      },
      "execution_count": null,
      "outputs": [
        {
          "output_type": "stream",
          "name": "stdout",
          "text": [
            "<class 'NoneType'>\n",
            "pujitha,not none\n"
          ]
        }
      ]
    },
    {
      "cell_type": "code",
      "source": [
        "a=\"5.5\"\n",
        "print(a.isdecimal())"
      ],
      "metadata": {
        "id": "EVt6dkv0U3gB",
        "colab": {
          "base_uri": "https://localhost:8080/"
        },
        "outputId": "10ae2355-e637-4677-fe63-d52fb23eb848"
      },
      "execution_count": null,
      "outputs": [
        {
          "output_type": "stream",
          "name": "stdout",
          "text": [
            "False\n"
          ]
        }
      ]
    },
    {
      "cell_type": "code",
      "source": [
        "#type:str\n",
        "x=\"pujitha\"\n",
        "print(type(x))\n",
        "print(x)\n",
        "x=\"pujitha\"\n",
        "p='pujitha'\n",
        "print(x)\n",
        "print(p)\n",
        "print(type(x))\n",
        "print(type(y))"
      ],
      "metadata": {
        "colab": {
          "base_uri": "https://localhost:8080/"
        },
        "id": "8D10GuJ1TUHw",
        "outputId": "db518164-b572-429a-9341-bfefbc991b93"
      },
      "execution_count": null,
      "outputs": [
        {
          "output_type": "stream",
          "name": "stdout",
          "text": [
            "<class 'str'>\n",
            "pujitha\n",
            "pujitha\n",
            "pujitha\n",
            "<class 'str'>\n",
            "<class 'int'>\n"
          ]
        }
      ]
    },
    {
      "cell_type": "markdown",
      "source": [],
      "metadata": {
        "id": "x_VpswF5OxV4"
      }
    },
    {
      "cell_type": "code",
      "source": [
        "#type:int,complex float\n",
        "x=4\n",
        "y=0.9\n",
        "z=x+y\n",
        "print(type(x))\n",
        "print(type(y))\n",
        "print(type(z))"
      ],
      "metadata": {
        "colab": {
          "base_uri": "https://localhost:8080/"
        },
        "id": "zG9i80IZU6o-",
        "outputId": "1ddfa876-ed0b-4502-bfc6-96bf7be4601e"
      },
      "execution_count": null,
      "outputs": [
        {
          "output_type": "stream",
          "name": "stdout",
          "text": [
            "<class 'int'>\n",
            "<class 'float'>\n",
            "<class 'float'>\n"
          ]
        }
      ]
    },
    {
      "cell_type": "markdown",
      "source": [
        "\n",
        "\n",
        "```\n",
        "# This is formatted as code\n",
        "```\n",
        "\n"
      ],
      "metadata": {
        "id": "kOwAqH7PHEDg"
      }
    },
    {
      "cell_type": "code",
      "source": [
        "#list methods\n",
        "p=[\"pujitha\",\"krishna\" ,8,\"nandhini\",9.0,\"vasu\",\"chinni\",\"balu\"]\n",
        "print(p)\n",
        "#get the type\n",
        "print(type(p))\n",
        "#lenth of the list\n",
        "print(len(p))\n",
        "print(p[0])\n",
        "print(p[1])\n",
        "print(p[2])\n",
        "print(p[3])\n",
        "print(p[4])\n",
        "print(p[5])\n",
        "print(p[6])\n",
        "print(p[7])\n",
        "print(p[-1])\n",
        "print(p[-2])\n",
        "#slicing the list\n",
        "print(p[1:9])\n",
        "#range of the index in python\n",
        "print(p[2:9])\n",
        "#iterate through the list\n",
        "for x in p:\n",
        "  print(x)\n",
        "  #repate the list 4 times\n",
        "  p = [\"pujitha\", \"krishna\", 8, \"nandhini\", 9.0, \"vasu\", \"chinni\", \"balu\"]\n",
        "print(p * 4)"
      ],
      "metadata": {
        "colab": {
          "base_uri": "https://localhost:8080/"
        },
        "id": "X0UWQpqYHJpC",
        "outputId": "d2a9adee-e54d-4c51-9fd6-606456563847"
      },
      "execution_count": null,
      "outputs": [
        {
          "output_type": "stream",
          "name": "stdout",
          "text": [
            "['pujitha', 'krishna', 8, 'nandhini', 9.0, 'vasu', 'chinni', 'balu']\n",
            "<class 'list'>\n",
            "8\n",
            "pujitha\n",
            "krishna\n",
            "8\n",
            "nandhini\n",
            "9.0\n",
            "vasu\n",
            "chinni\n",
            "balu\n",
            "balu\n",
            "chinni\n",
            "['krishna', 8, 'nandhini', 9.0, 'vasu', 'chinni', 'balu']\n",
            "[8, 'nandhini', 9.0, 'vasu', 'chinni', 'balu']\n",
            "pujitha\n",
            "krishna\n",
            "8\n",
            "nandhini\n",
            "9.0\n",
            "vasu\n",
            "chinni\n",
            "balu\n",
            "['pujitha', 'krishna', 8, 'nandhini', 9.0, 'vasu', 'chinni', 'balu', 'pujitha', 'krishna', 8, 'nandhini', 9.0, 'vasu', 'chinni', 'balu', 'pujitha', 'krishna', 8, 'nandhini', 9.0, 'vasu', 'chinni', 'balu', 'pujitha', 'krishna', 8, 'nandhini', 9.0, 'vasu', 'chinni', 'balu']\n"
          ]
        }
      ]
    },
    {
      "cell_type": "code",
      "source": [
        "#list remove means removing particular element removing and pop means p.pop(1) removing element returns the pop element\n",
        "p=[\"pujitha\",\"krishna\",8,\"nandhini\",9.0,\"vasu\",\"chinni\",\"balu\"]\n",
        "print(type(p))\n",
        "p.remove(\"pujitha\")\n",
        "print(p)\n",
        "p.pop(1)\n",
        "print(p)"
      ],
      "metadata": {
        "colab": {
          "base_uri": "https://localhost:8080/"
        },
        "id": "8a3LB856M11l",
        "outputId": "5b5b5666-21fc-4e6f-f263-ca131ee8b7e6"
      },
      "execution_count": null,
      "outputs": [
        {
          "output_type": "stream",
          "name": "stdout",
          "text": [
            "<class 'list'>\n",
            "['krishna', 8, 'nandhini', 9.0, 'vasu', 'chinni', 'balu']\n",
            "['krishna', 'nandhini', 9.0, 'vasu', 'chinni', 'balu']\n"
          ]
        }
      ]
    },
    {
      "cell_type": "code",
      "source": [
        "#clear means removing all elements from the list\n",
        "p=[\"pujitha\",\"krishna\",8,\"nandhini\",9.0]\n",
        "p.clear()\n",
        "print(p)"
      ],
      "metadata": {
        "colab": {
          "base_uri": "https://localhost:8080/"
        },
        "id": "GHICHGdROMFf",
        "outputId": "a3dc1360-0a29-4b06-a149-5dcc2c7ce9f7"
      },
      "execution_count": null,
      "outputs": [
        {
          "output_type": "stream",
          "name": "stdout",
          "text": [
            "[]\n"
          ]
        }
      ]
    },
    {
      "cell_type": "code",
      "source": [
        "#count means how many elements in the list\n",
        "#slicing print(p[2:6])\n",
        "\n",
        "\n",
        "my_list=[\"pujitha\",\"krishna\",\"nandhini\"]\n",
        "count_ones = my_list.count(1)\n",
        "print(count_ones)\n",
        "\n",
        "p=[\"pujitha\",'krishna',6,7,7,'krishna']\n",
        "a=p.count('krishna')\n",
        "r=p.count(7)\n",
        "print(r)\n",
        "print(a)"
      ],
      "metadata": {
        "colab": {
          "base_uri": "https://localhost:8080/"
        },
        "id": "miBX1wRBOD60",
        "outputId": "9604f7ea-ace6-44cf-8560-5fa3225c8f48"
      },
      "execution_count": null,
      "outputs": [
        {
          "output_type": "stream",
          "name": "stdout",
          "text": [
            "0\n",
            "2\n",
            "2\n"
          ]
        }
      ]
    },
    {
      "cell_type": "code",
      "source": [
        "#list append means adding in end insert meams adding with index number\n",
        "p=[\"pujitha\",\"krishna\",8,\"nandhini\",9.0]\n",
        "p.insert(3,\"trishna\")\n",
        "p.insert(4, \"karthik\")\n",
        "print(p)"
      ],
      "metadata": {
        "colab": {
          "base_uri": "https://localhost:8080/"
        },
        "id": "vKvHoDgfMwJ7",
        "outputId": "10404840-f967-481d-83ee-7be947de0abc"
      },
      "execution_count": null,
      "outputs": [
        {
          "output_type": "stream",
          "name": "stdout",
          "text": [
            "['pujitha', 'krishna', 8, 'trishna', 'karthik', 'nandhini', 9.0]\n"
          ]
        }
      ]
    },
    {
      "cell_type": "code",
      "source": [
        "#index means if it returns the element of index\n",
        "#slicing print(p[2:5])\n",
        "p = [\"pujitha\", \"krishna\",\"vijaya lakshmi\",\"bhavani\" ,\"vasu\",\"nandhini\"]\n",
        "index_of_krishna = p.index('vijaya lakshmi')\n",
        "print(\"Index of 'krishna':\", index_of_krishna)\n",
        "print(p[2:5])\n",
        "\n",
        "\n",
        "p=[8,7,5,4,3,2,1]\n",
        "index_of_5=p.index(5)\n",
        "print(\"'index of 5':\",index_of_5)\n",
        "print(p)"
      ],
      "metadata": {
        "colab": {
          "base_uri": "https://localhost:8080/"
        },
        "id": "Jo9F5udlORVg",
        "outputId": "7c096666-1b13-4c3d-b9b2-90750202a532"
      },
      "execution_count": null,
      "outputs": [
        {
          "output_type": "stream",
          "name": "stdout",
          "text": [
            "Index of 'krishna': 2\n",
            "['vijaya lakshmi', 'bhavani', 'vasu']\n",
            "'index of 5': 2\n",
            "[8, 7, 5, 4, 3, 2, 1]\n"
          ]
        }
      ]
    },
    {
      "cell_type": "code",
      "source": [
        "#sort means arranging elements in alphabets order\n",
        "# Convert all items to strings\n",
        "pujitha=[\"pujitha\",'4',\"krishna\",\"keerthi\",\"nandhini\",\"vijayalakshmi\"]\n",
        "pujitha.sort()\n",
        "print(pujitha)\n",
        "\n",
        "pujitha = [\"pujitha\", '8', \"krishna\", \"keerthi\", \"nandhini\", \"vijayalakshmi\"]\n",
        "pujitha.sort()\n",
        "print(pujitha)\n"
      ],
      "metadata": {
        "colab": {
          "base_uri": "https://localhost:8080/"
        },
        "id": "yH4zc9BiPvUg",
        "outputId": "4f4b3759-01fc-438b-d00d-7f45f5f63a60"
      },
      "execution_count": null,
      "outputs": [
        {
          "output_type": "stream",
          "name": "stdout",
          "text": [
            "['4', 'keerthi', 'krishna', 'nandhini', 'pujitha', 'vijayalakshmi']\n",
            "['8', 'keerthi', 'krishna', 'nandhini', 'pujitha', 'vijayalakshmi']\n"
          ]
        }
      ]
    },
    {
      "cell_type": "code",
      "source": [
        "#reverse means sorted elements will be reversed\n",
        "pujitha=[\"pujitha\",8,\"krishna\",\"keerthi\",\"nandhini\",\"vijayalakshmi\"]\n",
        "pujitha.reverse()\n",
        "print(pujitha)"
      ],
      "metadata": {
        "colab": {
          "base_uri": "https://localhost:8080/"
        },
        "id": "JxwVJHHGP-_v",
        "outputId": "5475592a-7c9f-439a-dde5-2ee2567758d0"
      },
      "execution_count": null,
      "outputs": [
        {
          "output_type": "stream",
          "name": "stdout",
          "text": [
            "['vijayalakshmi', 'nandhini', 'keerthi', 'krishna', 8, 'pujitha']\n"
          ]
        }
      ]
    },
    {
      "cell_type": "code",
      "source": [
        "#copy means list will copy and print the list\n",
        "p=[\"pujitha\",\"krishna\",\"nandhini\",\"vijayalakshmi\"]\n",
        "a=p.copy()\n",
        "print(a)\n",
        "\n",
        "p = [1, 2, 3, 4]\n",
        "c = p[:]\n",
        "print(c)  # Output: [1, 2, 3, 4]"
      ],
      "metadata": {
        "colab": {
          "base_uri": "https://localhost:8080/"
        },
        "id": "qpqCmYmLQMsq",
        "outputId": "d06796d5-0e36-4f94-ba1d-1cc615aa2926"
      },
      "execution_count": null,
      "outputs": [
        {
          "output_type": "stream",
          "name": "stdout",
          "text": [
            "['pujitha', 'krishna', 'nandhini', 'vijayalakshmi']\n",
            "[1, 2, 3, 4]\n"
          ]
        }
      ]
    },
    {
      "cell_type": "code",
      "source": [
        "#change the list items and  extend list  and join list\n",
        "#     0         1          2        3          4            5\n",
        "p = [\"apple\", \"banana\", \"cherry\",\"krishna\",\"nandhini\",\"vijayalakshmi\"]\n",
        "p[2:4] = (\"papaya\",\"pujitha\")\n",
        "print(p)\n",
        "#extend list\n",
        "p.extend(p)\n",
        "print(p)\n",
        "#join list\n",
        "k= [\"apple\", \"banana\", \"cherry\",\"krishna\",\"nandhini\",\"vijayalakshmi\"]\n",
        "a=p+k\n",
        "print(a)"
      ],
      "metadata": {
        "id": "YvluPy2YV6zY",
        "colab": {
          "base_uri": "https://localhost:8080/"
        },
        "outputId": "b1086efc-8f85-4118-e6a6-0734707ae5b3"
      },
      "execution_count": null,
      "outputs": [
        {
          "output_type": "stream",
          "name": "stdout",
          "text": [
            "['apple', 'banana', 'papaya', 'pujitha', 'nandhini', 'vijayalakshmi']\n",
            "['apple', 'banana', 'papaya', 'pujitha', 'nandhini', 'vijayalakshmi', 'apple', 'banana', 'papaya', 'pujitha', 'nandhini', 'vijayalakshmi']\n",
            "['apple', 'banana', 'papaya', 'pujitha', 'nandhini', 'vijayalakshmi', 'apple', 'banana', 'papaya', 'pujitha', 'nandhini', 'vijayalakshmi', 'apple', 'banana', 'cherry', 'krishna', 'nandhini', 'vijayalakshmi']\n"
          ]
        }
      ]
    },
    {
      "cell_type": "code",
      "source": [
        "\n",
        "#print list 2times\n",
        "a=[6,8,95,5,2,]\n",
        "print(a*2)"
      ],
      "metadata": {
        "colab": {
          "base_uri": "https://localhost:8080/"
        },
        "id": "hc5SnOAdfZk3",
        "outputId": "0c94aa1e-9797-489d-adfd-9dd72b1ea2e2"
      },
      "execution_count": null,
      "outputs": [
        {
          "output_type": "stream",
          "name": "stdout",
          "text": [
            "[6, 8, 95, 5, 2, 6, 8, 95, 5, 2]\n"
          ]
        }
      ]
    },
    {
      "cell_type": "code",
      "source": [
        "#create a tuple\n",
        "p=('krishna',)\n",
        "print(type(p))\n",
        "print(p)\n",
        "\n",
        "\n",
        "#create a tiple in a single variable\n",
        "\n",
        "p=(\"pujitha\",)\n",
        "print(type(p))\n",
        "print(p)\n",
        "\n",
        "#difference bewteen a tuple creating a single vaariable , if there is no comma then it becomes string\n",
        "\n",
        "p=(\"pujitha\")\n",
        "print(type(p))\n",
        "print(p)"
      ],
      "metadata": {
        "colab": {
          "base_uri": "https://localhost:8080/"
        },
        "id": "meCMVJh_UfLo",
        "outputId": "5ae1c8f6-f151-4c44-be61-9d4e67a6defa"
      },
      "execution_count": null,
      "outputs": [
        {
          "output_type": "stream",
          "name": "stdout",
          "text": [
            "<class 'tuple'>\n",
            "('krishna',)\n",
            "<class 'tuple'>\n",
            "('pujitha',)\n",
            "<class 'str'>\n",
            "pujitha\n"
          ]
        }
      ]
    },
    {
      "cell_type": "code",
      "source": [
        "a=('pujitha','krishna','trisha',8,8,9,4)\n",
        "print(a.count(4))\n",
        "print(a.index(\"trisha\"))"
      ],
      "metadata": {
        "colab": {
          "base_uri": "https://localhost:8080/"
        },
        "id": "N7HcwskwhNEk",
        "outputId": "04438ed7-0e2c-4123-d579-53355cb201ca"
      },
      "execution_count": null,
      "outputs": [
        {
          "output_type": "stream",
          "name": "stdout",
          "text": [
            "1\n",
            "2\n"
          ]
        }
      ]
    },
    {
      "cell_type": "code",
      "source": [
        "#len() of the tuple\n",
        "#    1         2        3         4        5          6         7         8        9        10            11            12      13      14\n",
        "p=(\"apple\", \"banana\",\"apple\",\"krishna\",\"pujitha\" ,\"krishna\",\"pujitha\",\"cherry\",\"krishna\",\"nandhini\",\"vijayalakshmi\",'trishani',  6   ,24.098)\n",
        "print(type(p))\n",
        "print(len(p))"
      ],
      "metadata": {
        "colab": {
          "base_uri": "https://localhost:8080/"
        },
        "id": "ZmCk9L7WWEG-",
        "outputId": "c019406d-c1e0-4cd1-eb28-960c982046bf"
      },
      "execution_count": null,
      "outputs": [
        {
          "output_type": "stream",
          "name": "stdout",
          "text": [
            "<class 'tuple'>\n",
            "14\n"
          ]
        }
      ]
    },
    {
      "cell_type": "code",
      "source": [
        "#max(),min(),sorted()in tuple\n",
        "p=(3,875,63,489,545,865,664,6,775,8,5,9,2,1,24.098)\n",
        "print(max(p))\n",
        "print(min(p))\n",
        "print(sorted(p))\n",
        "\n",
        "p=('3','5','6','7','5',\"p\",\"c\")\n",
        "print(max(p))\n",
        "print(min(p))\n",
        "print(sorted(p))"
      ],
      "metadata": {
        "id": "pua6gwY-WEDh",
        "colab": {
          "base_uri": "https://localhost:8080/"
        },
        "outputId": "916feb5f-d58e-41ff-b38e-e75e4bf6a0f7"
      },
      "execution_count": null,
      "outputs": [
        {
          "output_type": "stream",
          "name": "stdout",
          "text": [
            "875\n",
            "1\n",
            "[1, 2, 3, 5, 6, 8, 9, 24.098, 63, 489, 545, 664, 775, 865, 875]\n",
            "p\n",
            "3\n",
            "['3', '5', '5', '6', '7', 'c', 'p']\n"
          ]
        }
      ]
    },
    {
      "cell_type": "code",
      "source": [
        "#list is converted to tuple\n",
        "p=[\"pujitha\",\"krishna\",\"nandhini\",\"vijayalakshmi\"]\n",
        "print(type(p))\n",
        "k=tuple(p)\n",
        "print(type(k))\n",
        "print(k)"
      ],
      "metadata": {
        "id": "rajj9kObWEA-",
        "colab": {
          "base_uri": "https://localhost:8080/"
        },
        "outputId": "f2b167a5-81af-463e-d08c-199d8f0b3ad5"
      },
      "execution_count": null,
      "outputs": [
        {
          "output_type": "stream",
          "name": "stdout",
          "text": [
            "<class 'list'>\n",
            "<class 'tuple'>\n",
            "('pujitha', 'krishna', 'nandhini', 'vijayalakshmi')\n"
          ]
        }
      ]
    },
    {
      "cell_type": "code",
      "source": [
        "#sum of the tuple\n",
        "p=(3,875,63,8,5,5,9,20,24.098)\n",
        "\n",
        "print(sum(p))\n",
        "print(all(p))                             # Returns False because of the 0\n",
        "print(any(p))                             # Returns True because there are non-zero elements\n",
        "print(sorted(p))                          #[1, 2, 3, 5, 8, 9, 24.098, 63, 875]\n",
        "print(len(p))\n",
        "print(max(p))\n",
        "print(min(p))\n",
        "print(list(enumerate(p)))                 #[(0, 3), (1, 875), (2, 63), (3, 8), (4, 5), (5, 9), (6, 2), (7, 1), (8, 24.098)]"
      ],
      "metadata": {
        "id": "1G5982x1WD-E",
        "colab": {
          "base_uri": "https://localhost:8080/"
        },
        "outputId": "b5d062c0-5231-481b-fae9-b1e9edf38dcc"
      },
      "execution_count": null,
      "outputs": [
        {
          "output_type": "stream",
          "name": "stdout",
          "text": [
            "1012.098\n",
            "True\n",
            "True\n",
            "[3, 5, 5, 8, 9, 20, 24.098, 63, 875]\n",
            "9\n",
            "875\n",
            "3\n",
            "[(0, 3), (1, 875), (2, 63), (3, 8), (4, 5), (5, 5), (6, 9), (7, 20), (8, 24.098)]\n"
          ]
        }
      ]
    },
    {
      "cell_type": "code",
      "source": [
        "#creating a set\n",
        "p={\"pujitha\"}\n",
        "print(p)\n",
        "print(type(p))\n",
        "\n",
        "p=set((\"pujitha\",\"Krishna\",\"trisha\",\"Vijaya Lakshmi\"))\n",
        "print(p)\n",
        "print(type(p))"
      ],
      "metadata": {
        "id": "JFwGdLayIpWh",
        "colab": {
          "base_uri": "https://localhost:8080/"
        },
        "outputId": "3a553078-1568-4854-c664-ddb532fce6c3"
      },
      "execution_count": null,
      "outputs": [
        {
          "output_type": "stream",
          "name": "stdout",
          "text": [
            "{'pujitha'}\n",
            "<class 'set'>\n",
            "{'trisha', 'pujitha', 'Vijaya Lakshmi', 'Krishna'}\n",
            "<class 'set'>\n"
          ]
        }
      ]
    },
    {
      "cell_type": "code",
      "source": [
        "#add an element to a set\n",
        "a={1,2,3,4,5,6}\n",
        "a.add(7)\n",
        "print(a)"
      ],
      "metadata": {
        "colab": {
          "base_uri": "https://localhost:8080/"
        },
        "id": "CzfyuTtw5Vtm",
        "outputId": "69419b89-aa84-4f65-ef82-65f17b0f788e"
      },
      "execution_count": null,
      "outputs": [
        {
          "output_type": "stream",
          "name": "stdout",
          "text": [
            "{1, 2, 3, 4, 5, 6, 7}\n"
          ]
        }
      ]
    },
    {
      "cell_type": "code",
      "source": [
        "\n",
        "#update a set\n",
        "a={'pujitha','krishna',6,9}\n",
        "p={'vijayalakshmi',4,7,85,'trisha'}\n",
        "a.update(p)\n",
        "print(a)\n",
        "\n",
        "#combining a two sets\n",
        "a={'pujitha','krishna',6,9}\n",
        "p={'vijayalakshmi',4,7,85,'trisha'}\n",
        "p.update(a)\n",
        "print(p)"
      ],
      "metadata": {
        "id": "o98EmmdML37K",
        "colab": {
          "base_uri": "https://localhost:8080/"
        },
        "outputId": "a5ebd6e5-0a4c-4be8-c9b9-4b8b59e79fa1"
      },
      "execution_count": null,
      "outputs": [
        {
          "output_type": "stream",
          "name": "stdout",
          "text": [
            "{4, 6, 'krishna', 7, 9, 'trisha', 'vijayalakshmi', 85, 'pujitha'}\n",
            "{4, 6, 7, 'krishna', 9, 'trisha', 'vijayalakshmi', 85, 'pujitha'}\n"
          ]
        }
      ]
    },
    {
      "cell_type": "code",
      "source": [
        "\n",
        "#len of a string in sets\n",
        "p =set(\"pujitha\")\n",
        "print(len(p))\n",
        "\n",
        "a={\"trisha\",\"pujitha\",\"krishna\",\"Vijaya Lakshmi\"}\n",
        "print(len(a))"
      ],
      "metadata": {
        "colab": {
          "base_uri": "https://localhost:8080/"
        },
        "id": "pmEIaw8f5MOe",
        "outputId": "9f99782a-0bd1-4e55-8dca-67ceb30a513c"
      },
      "execution_count": null,
      "outputs": [
        {
          "output_type": "stream",
          "name": "stdout",
          "text": [
            "7\n",
            "4\n"
          ]
        }
      ]
    },
    {
      "cell_type": "code",
      "source": [
        "#Remove an specialized element in set\n",
        "a={9,8,7,6,\"krishna\",5,4,3}\n",
        "a.remove('krishna')\n",
        "print(a)\n",
        "\n",
        "p={8,2,5,7,6,4,9}\n",
        "p.remove(5)\n",
        "print(p)"
      ],
      "metadata": {
        "colab": {
          "base_uri": "https://localhost:8080/"
        },
        "id": "Xoy4euJadIKH",
        "outputId": "bd958fba-dc46-4b74-f6dd-792f77460bbf"
      },
      "execution_count": null,
      "outputs": [
        {
          "output_type": "stream",
          "name": "stdout",
          "text": [
            "{3, 4, 5, 6, 7, 8, 9}\n",
            "{2, 4, 6, 7, 8, 9}\n"
          ]
        }
      ]
    },
    {
      "cell_type": "code",
      "source": [
        "#Discard the item name it will be removed and remaining be in sorted\n",
        "a={6,7,8,9,3,2}\n",
        "a.discard(7)\n",
        "print(a)"
      ],
      "metadata": {
        "colab": {
          "base_uri": "https://localhost:8080/"
        },
        "id": "Kz7SBstJfwPH",
        "outputId": "28d468bb-ac85-4bdc-9468-64401cf15af0"
      },
      "execution_count": null,
      "outputs": [
        {
          "output_type": "stream",
          "name": "stdout",
          "text": [
            "{2, 3, 6, 8, 9}\n"
          ]
        }
      ]
    },
    {
      "cell_type": "code",
      "source": [
        "\n",
        "#pop means last element will be removed\n",
        "a={6,7,8,9,3,2}\n",
        "a.pop()\n",
        "print(a)"
      ],
      "metadata": {
        "colab": {
          "base_uri": "https://localhost:8080/"
        },
        "id": "xaWoiW1mq_mn",
        "outputId": "4d1f16bf-fdc8-46ec-9d45-3aa7cf40cb69"
      },
      "execution_count": null,
      "outputs": [
        {
          "output_type": "stream",
          "name": "stdout",
          "text": [
            "{3, 6, 7, 8, 9}\n"
          ]
        }
      ]
    },
    {
      "cell_type": "code",
      "source": [
        "#clear means all elements will be removed\n",
        "k={1,2,3,5,6,7,8,9,0}\n",
        "k.clear()\n",
        "print(type(k))\n",
        "print(k)"
      ],
      "metadata": {
        "colab": {
          "base_uri": "https://localhost:8080/"
        },
        "id": "UfmB8vwHrqHq",
        "outputId": "5f001a52-a5a7-4f2e-e2b7-9c27e1b7eab0"
      },
      "execution_count": null,
      "outputs": [
        {
          "output_type": "stream",
          "name": "stdout",
          "text": [
            "<class 'set'>\n",
            "set()\n"
          ]
        }
      ]
    },
    {
      "cell_type": "code",
      "source": [
        "\n",
        "#copy means list will copy and print the list\n",
        "k={1,2,3,5,6,7,8,9,0}\n",
        "p=k.copy()\n",
        "print(type(k))\n",
        "print(p)"
      ],
      "metadata": {
        "colab": {
          "base_uri": "https://localhost:8080/"
        },
        "id": "sdqBKvmSsGUY",
        "outputId": "5a8755f4-2f42-4fce-f8e5-c87f3fecc3e5"
      },
      "execution_count": null,
      "outputs": [
        {
          "output_type": "stream",
          "name": "stdout",
          "text": [
            "<class 'set'>\n",
            "{0, 1, 2, 3, 5, 6, 7, 8, 9}\n"
          ]
        }
      ]
    },
    {
      "cell_type": "code",
      "source": [
        "\n",
        "#union means joining the two sets\n",
        "k={1,2,3,5,6,7,8,9,0}\n",
        "p={81,33,44,55,}\n",
        "s=k.union(p)\n",
        "print(s)"
      ],
      "metadata": {
        "colab": {
          "base_uri": "https://localhost:8080/"
        },
        "id": "LSsed2UQsTbR",
        "outputId": "ec1b192e-66c0-4357-803a-928248f97c9e"
      },
      "execution_count": null,
      "outputs": [
        {
          "output_type": "stream",
          "name": "stdout",
          "text": [
            "{0, 1, 2, 3, 33, 5, 6, 7, 8, 9, 44, 81, 55}\n"
          ]
        }
      ]
    },
    {
      "cell_type": "code",
      "source": [
        "\n",
        "Intersection means comman elements in in the  set will be print\n",
        "k={1,2,3,5,6,7,8,9,0}\n",
        "p={8,1,3,4,5}\n",
        "s=k.intersection(p)\n",
        "print(s)"
      ],
      "metadata": {
        "colab": {
          "base_uri": "https://localhost:8080/"
        },
        "id": "mjoTk301s0e9",
        "outputId": "b5aaf420-81c7-47b8-b4b2-aec15d197998"
      },
      "execution_count": null,
      "outputs": [
        {
          "output_type": "stream",
          "name": "stdout",
          "text": [
            "{8, 1, 3, 5}\n"
          ]
        }
      ]
    },
    {
      "cell_type": "code",
      "source": [
        "\n",
        "#difference between two sets\n",
        "k={1,2,3,5,6}\n",
        "p={1,3,4,5}\n",
        "s=k.difference(p)\n",
        "print(s)"
      ],
      "metadata": {
        "colab": {
          "base_uri": "https://localhost:8080/"
        },
        "id": "kez98nOWtGKS",
        "outputId": "def09c1f-9850-4f91-ac0b-904bc48c7895"
      },
      "execution_count": null,
      "outputs": [
        {
          "output_type": "stream",
          "name": "stdout",
          "text": [
            "{2, 6}\n"
          ]
        }
      ]
    },
    {
      "cell_type": "code",
      "source": [
        "# Define the set\n",
        "my_set = {1, 2, 3, 4, 5}\n",
        "\n",
        "pujitha = my_set\n",
        "\n",
        "# Convert the set to a list\n",
        "my_list = list(pujitha)\n",
        "\n",
        "# Reverse the list using slicing\n",
        "reversed_list = my_list[::-1]\n",
        "\n",
        "# Print the reversed list\n",
        "print(reversed_list)"
      ],
      "metadata": {
        "colab": {
          "base_uri": "https://localhost:8080/"
        },
        "id": "A-PmEAReghe9",
        "outputId": "abc10a1d-6f08-42ea-8d20-e18d890a219c"
      },
      "execution_count": null,
      "outputs": [
        {
          "output_type": "stream",
          "name": "stdout",
          "text": [
            "[5, 4, 3, 2, 1]\n"
          ]
        }
      ]
    },
    {
      "cell_type": "code",
      "source": [
        "#creating a dictionary\n",
        "d={1:'pujitha',2:'krishna'}\n",
        "print(d)\n",
        "\n",
        "#dictionary using the built-in function dict()\n",
        "d=dict({1:'pujitha',2:'krishna'})\n",
        "print(d)"
      ],
      "metadata": {
        "colab": {
          "base_uri": "https://localhost:8080/"
        },
        "id": "KOA6Chkkodfg",
        "outputId": "b4642a61-d071-48c3-eb89-cda9299561d5"
      },
      "execution_count": null,
      "outputs": [
        {
          "output_type": "stream",
          "name": "stdout",
          "text": [
            "{1: 'pujitha', 2: 'krishna'}\n",
            "{1: 'pujitha', 2: 'krishna'}\n"
          ]
        }
      ]
    },
    {
      "cell_type": "code",
      "source": [
        "#Accessing elements\n",
        "d={1:'vijaya Lakshmi',2:'trisha'}\n",
        "print(d[2])\n",
        "\n",
        "#using the get()\n",
        "d={1:'pujitha',2:'krishna',3:'lakshmi',4:'trisha'\n",
        "}\n",
        "print(d.get(3))"
      ],
      "metadata": {
        "colab": {
          "base_uri": "https://localhost:8080/"
        },
        "id": "Wmyr-tluqFnU",
        "outputId": "1e15f747-d828-414b-8612-2ec71d70b33f"
      },
      "execution_count": null,
      "outputs": [
        {
          "output_type": "stream",
          "name": "stdout",
          "text": [
            "trisha\n",
            "lakshmi\n"
          ]
        }
      ]
    },
    {
      "cell_type": "code",
      "source": [
        "#change element in the dictionary\n",
        "d={1:'pujitha',2:'krishna',3:'lakshmi',4:'trisha'\n",
        "}\n",
        "d[1]='Nandhini'\n",
        "d[4]='Nandhu'\n",
        "print(d)"
      ],
      "metadata": {
        "colab": {
          "base_uri": "https://localhost:8080/"
        },
        "id": "0G-DtwNGrXg3",
        "outputId": "2cb57e21-c210-45ad-da01-b27548b3dc8a"
      },
      "execution_count": null,
      "outputs": [
        {
          "output_type": "stream",
          "name": "stdout",
          "text": [
            "{1: 'Nandhini', 2: 'krishna', 3: 'lakshmi', 4: 'Nandhu'}\n"
          ]
        }
      ]
    },
    {
      "cell_type": "code",
      "source": [
        "#add an element in the dictionary\n",
        "d={1:'pujitha',2:'krishna',3:'lakshmi',4:'trisha'\n",
        "}\n",
        "print(d)\n",
        "d[5]='karthik'\n",
        "print(d)"
      ],
      "metadata": {
        "colab": {
          "base_uri": "https://localhost:8080/"
        },
        "id": "_nOpGCWZsWkg",
        "outputId": "e0a66213-aaeb-454b-89cc-98acb8e49986"
      },
      "execution_count": null,
      "outputs": [
        {
          "output_type": "stream",
          "name": "stdout",
          "text": [
            "{1: 'pujitha', 2: 'krishna', 3: 'lakshmi', 4: 'trisha'}\n",
            "{1: 'pujitha', 2: 'krishna', 3: 'lakshmi', 4: 'trisha', 5: 'karthik'}\n"
          ]
        }
      ]
    },
    {
      "cell_type": "code",
      "source": [
        "#deleting an element\n",
        "d={1:'pujitha',2:'krishna',3:'lakshmi',4:'trisha'\n",
        "}\n",
        "\n",
        "print(d.pop(2))\n",
        "print(d.popitem())"
      ],
      "metadata": {
        "colab": {
          "base_uri": "https://localhost:8080/"
        },
        "id": "0LMEGpVswfPJ",
        "outputId": "58691d54-a2bc-4007-97a3-d2bf086ec19b"
      },
      "execution_count": null,
      "outputs": [
        {
          "output_type": "stream",
          "name": "stdout",
          "text": [
            "krishna\n",
            "(4, 'trisha')\n"
          ]
        }
      ]
    },
    {
      "cell_type": "code",
      "source": [
        "#clear the dictionary\n",
        "d={1:'pujitha'}\n",
        "d.clear()\n",
        "print(d)"
      ],
      "metadata": {
        "colab": {
          "base_uri": "https://localhost:8080/"
        },
        "id": "kjLAeg4C0Crc",
        "outputId": "5b4c50ba-049b-4a39-a781-86df7c564aa0"
      },
      "execution_count": null,
      "outputs": [
        {
          "output_type": "stream",
          "name": "stdout",
          "text": [
            "{}\n"
          ]
        }
      ]
    },
    {
      "cell_type": "code",
      "source": [
        "#single quotes inside the double quotes\n",
        "print(\"He is called 'johnny'\")\n",
        "print(\"It's alright\")"
      ],
      "metadata": {
        "id": "S0g7Y4TwQna4",
        "colab": {
          "base_uri": "https://localhost:8080/"
        },
        "outputId": "25f8618c-5a8d-4b40-9b94-b6ac1afa5bd1"
      },
      "execution_count": null,
      "outputs": [
        {
          "output_type": "stream",
          "name": "stdout",
          "text": [
            "He is called 'johnny'\n",
            "It's alright\n"
          ]
        }
      ]
    },
    {
      "cell_type": "code",
      "source": [
        "#Access  a string to a variable\n",
        "x,y=\"pujitha\",\"Trishani\"\n",
        "print(x,y)\n",
        "print(x)\n",
        "print(y)"
      ],
      "metadata": {
        "colab": {
          "base_uri": "https://localhost:8080/"
        },
        "id": "bW7Mr7SIgu4p",
        "outputId": "1b331dc1-238d-4458-a912-9cf619d7cd26"
      },
      "execution_count": null,
      "outputs": [
        {
          "output_type": "stream",
          "name": "stdout",
          "text": [
            "pujitha Trishani\n",
            "pujitha\n",
            "Trishani\n"
          ]
        }
      ]
    },
    {
      "cell_type": "code",
      "source": [
        "\n",
        "#capitalize method\n",
        "p = \"my name is pujitha\"\n",
        "c = p.capitalize()  # Adding parentheses to call the function\n",
        "print(c)"
      ],
      "metadata": {
        "colab": {
          "base_uri": "https://localhost:8080/"
        },
        "id": "MVcotrZBiRo4",
        "outputId": "5a07a689-468f-43b0-c9e3-2da56eaa6248"
      },
      "execution_count": null,
      "outputs": [
        {
          "output_type": "stream",
          "name": "stdout",
          "text": [
            "My name is pujitha\n"
          ]
        }
      ]
    },
    {
      "cell_type": "code",
      "source": [
        "#casefold method\n",
        "p = \"MY name is PUJITHA\"\n",
        "c = p.casefold()  # Adding parentheses to call the function\n",
        "print(c)"
      ],
      "metadata": {
        "colab": {
          "base_uri": "https://localhost:8080/"
        },
        "id": "13b5Rw-1il4S",
        "outputId": "e98d5a52-d68d-4ce4-b02d-2a00be98c3dd"
      },
      "execution_count": null,
      "outputs": [
        {
          "output_type": "stream",
          "name": "stdout",
          "text": [
            "my name is pujitha\n"
          ]
        }
      ]
    },
    {
      "cell_type": "code",
      "source": [
        "#center method\n",
        "p=\"DEMO\"\n",
        "print(p.center(10,\"#\"))\n",
        "print(p.center(20,\"$\"))\n",
        "print(p.center(10,\"@\"))"
      ],
      "metadata": {
        "colab": {
          "base_uri": "https://localhost:8080/"
        },
        "id": "q7Uf4XHLkPcl",
        "outputId": "04dce75a-88bc-4d90-cfe3-51235069398f"
      },
      "execution_count": null,
      "outputs": [
        {
          "output_type": "stream",
          "name": "stdout",
          "text": [
            "###DEMO###\n",
            "$$$$$$$$DEMO$$$$$$$$\n",
            "@@@DEMO@@@\n"
          ]
        }
      ]
    },
    {
      "cell_type": "code",
      "source": [
        "#count method\n",
        "p = \"This is pujitha .This is my demo ,pujitha\"\n",
        "print(p.count(\"This\"))\n",
        "print(p.count(\"pujitha\"))\n",
        "print(p.count(\"my\"))"
      ],
      "metadata": {
        "colab": {
          "base_uri": "https://localhost:8080/"
        },
        "id": "Rw2YjNw_mGQA",
        "outputId": "fb08f080-b2ba-4c3f-9f28-320b6aa00a77"
      },
      "execution_count": null,
      "outputs": [
        {
          "output_type": "stream",
          "name": "stdout",
          "text": [
            "2\n",
            "2\n",
            "1\n"
          ]
        }
      ]
    },
    {
      "cell_type": "code",
      "source": [
        "#find method\n",
        "p = \"  This is text.This is pujitha\"\n",
        "print(p.find(\"this\"))\n",
        "print(p.find(\"text\",3,22))\n",
        "print(p.find(\"pujitha\",3,10))"
      ],
      "metadata": {
        "colab": {
          "base_uri": "https://localhost:8080/"
        },
        "id": "u4gemfUPnV9J",
        "outputId": "04d6eba0-2da2-4bf0-e057-fe138a067a80"
      },
      "execution_count": null,
      "outputs": [
        {
          "output_type": "stream",
          "name": "stdout",
          "text": [
            "-1\n",
            "10\n",
            "-1\n"
          ]
        }
      ]
    },
    {
      "cell_type": "code",
      "source": [
        "#endswith()method\n",
        "p=\"Hello python.python is good\"\n",
        "print(p.endswith(\"good\"))\n",
        "print(p.endswith(\"python\"))"
      ],
      "metadata": {
        "colab": {
          "base_uri": "https://localhost:8080/"
        },
        "id": "v0feWZBmqNCE",
        "outputId": "c423ba48-9114-4ec4-c353-2ff46eb590bc"
      },
      "execution_count": null,
      "outputs": [
        {
          "output_type": "stream",
          "name": "stdout",
          "text": [
            "True\n",
            "False\n"
          ]
        }
      ]
    },
    {
      "cell_type": "code",
      "source": [
        "#expandtabs() method\n",
        "p=\"D\\te\\tm\\to\\t\"\n",
        "print(p.expandtabs())\n",
        "print(p.expandtabs(0))\n",
        "print(p.expandtabs(1))\n",
        "print(p.expandtabs(2))\n",
        "print(p.expandtabs(3))"
      ],
      "metadata": {
        "colab": {
          "base_uri": "https://localhost:8080/"
        },
        "id": "-QYtrB2ZtBYP",
        "outputId": "4d1de273-c2bf-48f3-d8e1-09982e3603ed"
      },
      "execution_count": null,
      "outputs": [
        {
          "output_type": "stream",
          "name": "stdout",
          "text": [
            "D       e       m       o       \n",
            "Demo\n",
            "D e m o \n",
            "D e m o \n",
            "D  e  m  o  \n"
          ]
        }
      ]
    },
    {
      "cell_type": "code",
      "source": [
        "#index method\n",
        "p= \"This is first text\"\n",
        "print(p.index('i'))\n",
        "print(p.index('i',1,13))\n",
        "print(p.index('f',4,15))"
      ],
      "metadata": {
        "colab": {
          "base_uri": "https://localhost:8080/"
        },
        "id": "i1M2nn7MtBaP",
        "outputId": "fa333e2d-564c-44a6-e73d-a9033c69696b"
      },
      "execution_count": null,
      "outputs": [
        {
          "output_type": "stream",
          "name": "stdout",
          "text": [
            "2\n",
            "2\n",
            "8\n"
          ]
        }
      ]
    },
    {
      "cell_type": "code",
      "source": [
        "\n",
        "#isalnum means alphanumeric\n",
        "d = \"Hello123\"\n",
        "g = \"Hello 123\"\n",
        "p = \"\"\n",
        "\n",
        "print(d.isalnum())  # True, because it contains only letters and numbers\n",
        "print(g.isalnum())  # False, because it contains a space\n",
        "print(p.isalnum())  # False, because it is an empty string#"
      ],
      "metadata": {
        "colab": {
          "base_uri": "https://localhost:8080/"
        },
        "id": "5hbXj2BavnWg",
        "outputId": "931ce11b-17ad-4917-8261-17ddc912ceb1"
      },
      "execution_count": null,
      "outputs": [
        {
          "output_type": "stream",
          "name": "stdout",
          "text": [
            "True\n",
            "False\n",
            "False\n"
          ]
        }
      ]
    },
    {
      "cell_type": "code",
      "source": [
        "\n",
        "#isalpha check wether it is alphabetic or\n",
        "p= \"Hello\"\n",
        "s = \"Hello123\"\n",
        "t = \"Hello!\"\n",
        "r = \"\"\n",
        "\n",
        "print(p.isalpha())  # True, because it contains only letters\n",
        "print(s.isalpha())  # False, because it contains numbers\n",
        "print(t.isalpha())  # False, because it contains a special character (!)\n",
        "print(r.isalpha())  # False, because it is an empty string#"
      ],
      "metadata": {
        "colab": {
          "base_uri": "https://localhost:8080/"
        },
        "id": "nwzfJA-K5-Fa",
        "outputId": "c17d36de-bd17-42ac-e677-27a184a06029"
      },
      "execution_count": null,
      "outputs": [
        {
          "output_type": "stream",
          "name": "stdout",
          "text": [
            "True\n",
            "False\n",
            "False\n",
            "False\n"
          ]
        }
      ]
    },
    {
      "cell_type": "code",
      "source": [
        "#isdecimal method\n",
        "s = \"12345\"\n",
        "t = \"123.45\"\n",
        "r= \"-1.2\"\n",
        "  # Full-width characters\n",
        "\n",
        "\n",
        "print(s.isdecimal())  # True, because it contains only decimal digits\n",
        "print(t.isdecimal())  # False, because it contains a decimal point\n",
        "print(r.isdecimal())  # False, because it"
      ],
      "metadata": {
        "colab": {
          "base_uri": "https://localhost:8080/"
        },
        "id": "HqBsClJd_q_O",
        "outputId": "26f7816c-b39e-4d9c-9377-251f744579f6"
      },
      "execution_count": null,
      "outputs": [
        {
          "output_type": "stream",
          "name": "stdout",
          "text": [
            "True\n",
            "False\n",
            "False\n"
          ]
        }
      ]
    },
    {
      "cell_type": "code",
      "source": [
        "#isdigit method\n",
        "i = \"12345\"\n",
        "r = \"123.45\"\n",
        "p = \"12345a\"\n",
        "t = \"²³\"  # Superscript digits\n",
        "s= \"\"\n",
        "\n",
        "print(i.isdigit())  # True, because it contains only digit characters\n",
        "print(r.isdigit())  # False, because it contains a decimal point\n",
        "print(p.isdigit())  # False, because it contains a letter\n",
        "print(t.isdigit())  # True, because it contains superscript digits\n",
        "print(s.isdigit())  # False, because it is an empty string"
      ],
      "metadata": {
        "colab": {
          "base_uri": "https://localhost:8080/"
        },
        "id": "gQdhvl39A083",
        "outputId": "adaa3953-a9fb-4bd5-aef0-45198f51ec8d"
      },
      "execution_count": null,
      "outputs": [
        {
          "output_type": "stream",
          "name": "stdout",
          "text": [
            "True\n",
            "False\n",
            "False\n",
            "True\n",
            "False\n"
          ]
        }
      ]
    },
    {
      "cell_type": "code",
      "source": [
        "#isidentifier method\n",
        "s = \"variable\"\n",
        "p= \"_varia_ble\"\n",
        "t ,h= \"2variable\",\"variable45\"\n",
        "r = \"variable_name\"\n",
        "i= \"var@name\"\n",
        "u = \"for\"  # Although this is a keyword, `isidentifier()` will return True\n",
        "print(h.isidentifier())\n",
        "print(s.isidentifier())  # True, valid identifier\n",
        "print(p.isidentifier())  # True, valid identifier\n",
        "print(t.isidentifier())  # False, starts with a digit\n",
        "print(r.isidentifier())  # True, valid identifier with an underscore\n",
        "print(i.isidentifier())  # False, contains special character @\n",
        "print(u.isidentifier())  # True, but it is a keyword"
      ],
      "metadata": {
        "colab": {
          "base_uri": "https://localhost:8080/"
        },
        "id": "7NQn5blWBpox",
        "outputId": "9fd2ebd4-9c5f-45e1-d22a-152b491300fe"
      },
      "execution_count": null,
      "outputs": [
        {
          "output_type": "stream",
          "name": "stdout",
          "text": [
            "True\n",
            "True\n",
            "True\n",
            "False\n",
            "True\n",
            "False\n",
            "True\n"
          ]
        }
      ]
    },
    {
      "cell_type": "code",
      "source": [
        "#islower method\n",
        "p= \"Hello\"\n",
        "r = \"hello\"\n",
        "t = \"hello123\"\n",
        "s = \"123\"\n",
        "q = \"\"\n",
        "\n",
        "print(p.islower())  # True, all alphabetic characters are lowercase\n",
        "print(r.islower())  # False, because of the uppercase 'H'\n",
        "print(t.islower())  # True, all alphabetic characters are lowercase (digits don't affect the result)\n",
        "print(s.islower())  # False, because there are no alphabetic characters\n",
        "print(q.islower())  # False, because the string is empty"
      ],
      "metadata": {
        "colab": {
          "base_uri": "https://localhost:8080/"
        },
        "id": "TimLyz2gJ-zQ",
        "outputId": "78feb1c2-4989-4b2b-e76f-d780dc3e9836"
      },
      "execution_count": null,
      "outputs": [
        {
          "output_type": "stream",
          "name": "stdout",
          "text": [
            "False\n",
            "True\n",
            "True\n",
            "False\n",
            "False\n"
          ]
        }
      ]
    },
    {
      "cell_type": "code",
      "source": [
        "#isnumeric method\n",
        "string1 = \"12345\"\n",
        "string2 = \"½\"\n",
        "string3 = \"12345a\"\n",
        "string4 = \"²³\"  # Superscript digits\n",
        "string5 = \"一二三四五\"  # Chinese numerals\n",
        "string6 = \"\"\n",
        "\n",
        "print(string1.isnumeric())  # True, because it contains only digits\n",
        "print(string2.isnumeric())  # True, because it contains a fraction\n",
        "print(string3.isnumeric())  # False, because it contains a letter\n",
        "print(string4.isnumeric())  # True, because it contains superscript digits\n",
        "print(string5.isnumeric())  # True, because it contains numeric characters in another script\n",
        "print(string6.isnumeric())  # False, because it is an empty string"
      ],
      "metadata": {
        "colab": {
          "base_uri": "https://localhost:8080/"
        },
        "id": "6qYX3iIXMvK5",
        "outputId": "fcbd6d0d-9b3b-4851-bf3c-48c2062cb5e6"
      },
      "execution_count": null,
      "outputs": [
        {
          "output_type": "stream",
          "name": "stdout",
          "text": [
            "True\n",
            "True\n",
            "False\n",
            "True\n",
            "True\n",
            "False\n"
          ]
        }
      ]
    },
    {
      "cell_type": "code",
      "source": [
        "#isprintable method\n",
        "string1 = \"Hello, World!\"\n",
        "string2 = \"12345\"\n",
        "string3 = \"Hello\\nWorld\"\n",
        "string4 = \"Hello\\tWorld\"\n",
        "string5 = \"\"\n",
        "\n",
        "print(string1.isprintable())  # True, all characters are printable\n",
        "print(string2.isprintable())  # True, all characters are digits, which are printable\n",
        "print(string3.isprintable())  # False, because it contains a newline character \\n\n",
        "print(string4.isprintable())  # False, because it contains a tab character \\t\n",
        "print(string5.isprintable())  # True, an empty string is considered printable"
      ],
      "metadata": {
        "colab": {
          "base_uri": "https://localhost:8080/"
        },
        "id": "CWRICESPOa_F",
        "outputId": "729da8e6-b4d6-4bac-fc46-846983a37a9b"
      },
      "execution_count": null,
      "outputs": [
        {
          "output_type": "stream",
          "name": "stdout",
          "text": [
            "True\n",
            "True\n",
            "False\n",
            "False\n",
            "True\n"
          ]
        }
      ]
    },
    {
      "cell_type": "code",
      "source": [
        "#ispace method\n",
        "string1 = \"   \"\n",
        "string2 = \"\\t\\n\"\n",
        "string3 = \"Hello World\"\n",
        "string4 = \"\"\n",
        "string5 = \"   a  \"\n",
        "\n",
        "print(string1.isspace())  # True, all characters are spaces\n",
        "print(string2.isspace())  # True, all characters are whitespace (tab and newline)\n",
        "print(string3.isspace())  # False, contains non-whitespace characters\n",
        "print(string4.isspace())  # False, because it is an empty string\n",
        "print(string5.isspace())  # False, contains a non-whitespace character ('a')"
      ],
      "metadata": {
        "colab": {
          "base_uri": "https://localhost:8080/"
        },
        "id": "CjbCm6kdQLQd",
        "outputId": "cf7fa162-00e8-45ed-aa52-6b36ad6af0aa"
      },
      "execution_count": null,
      "outputs": [
        {
          "output_type": "stream",
          "name": "stdout",
          "text": [
            "True\n",
            "True\n",
            "False\n",
            "False\n",
            "False\n"
          ]
        }
      ]
    },
    {
      "cell_type": "code",
      "source": [
        "#istitle method\n",
        "string1 = \"Hello World\"\n",
        "string2 = \"Hello world\"\n",
        "string3 = \"Hello World!\"\n",
        "string4 = \"hello World\"\n",
        "string5 = \"123 Hello\"\n",
        "string6 = \"\"\n",
        "\n",
        "print(string1.istitle())  # True, both words are in title case\n",
        "print(string2.istitle())  # False, \"world\" is not capitalized\n",
        "print(string3.istitle())  # True, both words are in title case, punctuation doesn't affect the result\n",
        "print(string4.istitle())  # False, \"hello\" is not capitalized\n",
        "print(string5.istitle())  # True, \"Hello\" is in title case (numbers don't affect the result)\n",
        "print(string6.istitle())  # False, because the string is empty"
      ],
      "metadata": {
        "colab": {
          "base_uri": "https://localhost:8080/"
        },
        "id": "cmPcX3lHTvqP",
        "outputId": "464080a2-4bba-4674-d109-118fb46157a6"
      },
      "execution_count": null,
      "outputs": [
        {
          "output_type": "stream",
          "name": "stdout",
          "text": [
            "True\n",
            "False\n",
            "True\n",
            "False\n",
            "True\n",
            "False\n"
          ]
        }
      ]
    },
    {
      "cell_type": "code",
      "source": [
        "#isupper method\n",
        "string1 = \"HELLO\"\n",
        "string2 = \"Hello\"\n",
        "string3 = \"HELLO123\"\n",
        "string4 = \"123\"\n",
        "string5 = \"\"\n",
        "string6 = \"HELLO!\"\n",
        "\n",
        "print(string1.isupper())  # True, all alphabetic characters are uppercase\n",
        "print(string2.isupper())  # False, \"H\" is uppercase but \"ello\" is not\n",
        "print(string3.isupper())  # True, all alphabetic characters are uppercase (digits are ignored)\n",
        "print(string4.isupper())  # False, there are no alphabetic characters\n",
        "print(string5.isupper())  # False, because the string is empty\n",
        "print(string6.isupper())  # True, all alphabetic characters are uppercase (punctuation doesn't affect the result)"
      ],
      "metadata": {
        "colab": {
          "base_uri": "https://localhost:8080/"
        },
        "id": "q6fQ7HcnXinV",
        "outputId": "c512ebdb-1d45-46da-afa1-0d582ddecf16"
      },
      "execution_count": null,
      "outputs": [
        {
          "output_type": "stream",
          "name": "stdout",
          "text": [
            "True\n",
            "False\n",
            "True\n",
            "False\n",
            "False\n",
            "True\n"
          ]
        }
      ]
    },
    {
      "cell_type": "code",
      "source": [
        "#join method\n",
        "separator = \", \"\n",
        "words = [\"apple\", \"banana\", \"cherry\"]\n",
        "\n",
        "result = separator.join(words)\n",
        "print(result)  # Output: \"apple, banana, cherry\""
      ],
      "metadata": {
        "colab": {
          "base_uri": "https://localhost:8080/"
        },
        "id": "xinIevEtZMYm",
        "outputId": "6aeebda4-57c1-4371-e6e3-35d2225f3d42"
      },
      "execution_count": null,
      "outputs": [
        {
          "output_type": "stream",
          "name": "stdout",
          "text": [
            "apple, banana, cherry\n"
          ]
        }
      ]
    },
    {
      "cell_type": "code",
      "source": [
        "\n",
        "#join method\n",
        "p=\"\"\n",
        "w=[\"Hello\"]\n",
        "result=p.join(w)\n",
        "print(result)"
      ],
      "metadata": {
        "colab": {
          "base_uri": "https://localhost:8080/"
        },
        "id": "jJsjaWTHZm1g",
        "outputId": "ed321c50-b6d4-442d-8e49-ca3e9dcb43ac"
      },
      "execution_count": null,
      "outputs": [
        {
          "output_type": "stream",
          "name": "stdout",
          "text": [
            "Hello\n"
          ]
        }
      ]
    },
    {
      "cell_type": "code",
      "source": [
        "#lower method\n",
        "p=\"HELLO WORLD\"\n",
        "print(p.lower())"
      ],
      "metadata": {
        "colab": {
          "base_uri": "https://localhost:8080/"
        },
        "id": "tvVnlERxanMt",
        "outputId": "08be5ee9-8a12-47c6-cccc-62026fd979b4"
      },
      "execution_count": null,
      "outputs": [
        {
          "output_type": "stream",
          "name": "stdout",
          "text": [
            "hello world\n"
          ]
        }
      ]
    },
    {
      "cell_type": "code",
      "source": [
        "#upper method\n",
        "p=\"hello world\"\n",
        "print(p.upper())"
      ],
      "metadata": {
        "colab": {
          "base_uri": "https://localhost:8080/"
        },
        "id": "YqhieHGsbO-L",
        "outputId": "86552491-8676-4766-a2a9-594adbe00b3f"
      },
      "execution_count": null,
      "outputs": [
        {
          "output_type": "stream",
          "name": "stdout",
          "text": [
            "HELLO WORLD\n"
          ]
        }
      ]
    },
    {
      "cell_type": "code",
      "source": [
        "#lstrip()\n",
        "p=\"#####Stranger things\"\n",
        "print(p.lstrip('#'))"
      ],
      "metadata": {
        "colab": {
          "base_uri": "https://localhost:8080/"
        },
        "id": "lRKchcGEmfih",
        "outputId": "39b28b99-05d9-47c9-f0f8-e2b7df91e2f6"
      },
      "execution_count": null,
      "outputs": [
        {
          "output_type": "stream",
          "name": "stdout",
          "text": [
            "Stranger things\n"
          ]
        }
      ]
    },
    {
      "cell_type": "code",
      "source": [
        "#replace()\n",
        "p=\"This is demo.This is another demo\"\n",
        "print(p.replace(\"demo\",\"text\",2))\n",
        "\n",
        "p=\"This is our example\"\n",
        "print(p.replace(\"example\",\"pujitha\"))"
      ],
      "metadata": {
        "colab": {
          "base_uri": "https://localhost:8080/"
        },
        "id": "7dbvNhBqnWti",
        "outputId": "7af62668-58ae-4b08-ca2b-141e4ca109cd"
      },
      "execution_count": null,
      "outputs": [
        {
          "output_type": "stream",
          "name": "stdout",
          "text": [
            "This is text.This is another text\n",
            "This is our pujitha\n"
          ]
        }
      ]
    },
    {
      "cell_type": "code",
      "source": [
        "#rfind()\n",
        "p=\"This is demo.This is another demo\"\n",
        "print(p.rfind(\"demo\"))\n",
        "\n",
        "p=\"This is demo.This is another demo.yet another demo\"\n",
        "print(p.rfind(\"demo\"))"
      ],
      "metadata": {
        "colab": {
          "base_uri": "https://localhost:8080/"
        },
        "id": "OPo1a3SAnv3E",
        "outputId": "a6b44aec-162e-48f7-d937-2cdc9d0ae4d9"
      },
      "execution_count": null,
      "outputs": [
        {
          "output_type": "stream",
          "name": "stdout",
          "text": [
            "29\n",
            "46\n"
          ]
        }
      ]
    },
    {
      "cell_type": "code",
      "source": [
        "#rindexmethod\n",
        "p=\"This is test .This is another test\"\n",
        "print(p.index(\"another\"))"
      ],
      "metadata": {
        "colab": {
          "base_uri": "https://localhost:8080/"
        },
        "id": "A7jmvv1LK3sC",
        "outputId": "59348628-1d40-4d4c-ee25-8a7f8ef210bb"
      },
      "execution_count": null,
      "outputs": [
        {
          "output_type": "stream",
          "name": "stdout",
          "text": [
            "22\n"
          ]
        }
      ]
    },
    {
      "cell_type": "code",
      "source": [
        "#rjust method\n",
        "p=\"American vandal\"\n",
        "print(p.rjust(25,\"$\"))"
      ],
      "metadata": {
        "colab": {
          "base_uri": "https://localhost:8080/"
        },
        "id": "S1aiIndELfcj",
        "outputId": "3535bc6b-2533-4b50-8c49-c5bc6c406b60"
      },
      "execution_count": null,
      "outputs": [
        {
          "output_type": "stream",
          "name": "stdout",
          "text": [
            "$$$$$$$$$$American vandal\n"
          ]
        }
      ]
    },
    {
      "cell_type": "code",
      "source": [
        "#rsplit method\n",
        "p=\"pujitha  ,krishna ,Lakshmi , Trishani\"\n",
        "print(p.rsplit(\",\",2))"
      ],
      "metadata": {
        "colab": {
          "base_uri": "https://localhost:8080/"
        },
        "id": "us7ZLI2MMdgE",
        "outputId": "bf30cefa-a70e-4d7a-8053-3d80a3f7915e"
      },
      "execution_count": null,
      "outputs": [
        {
          "output_type": "stream",
          "name": "stdout",
          "text": [
            "['pujitha  ,krishna ', 'Lakshmi ', ' Trishani']\n"
          ]
        }
      ]
    },
    {
      "cell_type": "code",
      "source": [
        "#rstrip method\n",
        "p=\"STRANGER THINGS #####\"\n",
        "print(p.rstrip('#'))"
      ],
      "metadata": {
        "colab": {
          "base_uri": "https://localhost:8080/"
        },
        "id": "DO3m3KSlNfSu",
        "outputId": "c4420017-a113-4c8c-8cdc-5d1e7cace7c7"
      },
      "execution_count": null,
      "outputs": [
        {
          "output_type": "stream",
          "name": "stdout",
          "text": [
            "STRANGER THINGS \n"
          ]
        }
      ]
    },
    {
      "cell_type": "code",
      "source": [
        "#split method\n",
        "p=\"one##two##three##\"\n",
        "print(p.split(\"##\",2))"
      ],
      "metadata": {
        "colab": {
          "base_uri": "https://localhost:8080/"
        },
        "id": "YSCMAYX_OIo4",
        "outputId": "a9fa53d2-46e4-4715-fb68-4cccaa73e5e7"
      },
      "execution_count": null,
      "outputs": [
        {
          "output_type": "stream",
          "name": "stdout",
          "text": [
            "['one', 'two', 'three##']\n"
          ]
        }
      ]
    },
    {
      "cell_type": "code",
      "source": [
        "#splitline method\n",
        "p=\"one\\n two\\n three\\n four\"\n",
        "print(p.splitline('true'))"
      ],
      "metadata": {
        "colab": {
          "base_uri": "https://localhost:8080/",
          "height": 263
        },
        "id": "s5Se81fcOkhv",
        "outputId": "d4672239-a167-4af3-829a-9081d621db62"
      },
      "execution_count": null,
      "outputs": [
        {
          "output_type": "error",
          "ename": "AttributeError",
          "evalue": "'str' object has no attribute 'splitline'",
          "traceback": [
            "\u001b[0;31m---------------------------------------------------------------------------\u001b[0m",
            "\u001b[0;31mAttributeError\u001b[0m                            Traceback (most recent call last)",
            "\u001b[0;32m<ipython-input-1-0b63c3e83f78>\u001b[0m in \u001b[0;36m<cell line: 3>\u001b[0;34m()\u001b[0m\n\u001b[1;32m      1\u001b[0m \u001b[0;31m#splitline method\u001b[0m\u001b[0;34m\u001b[0m\u001b[0;34m\u001b[0m\u001b[0m\n\u001b[1;32m      2\u001b[0m \u001b[0mp\u001b[0m\u001b[0;34m=\u001b[0m\u001b[0;34m\"one\\n two\\n three\\n four\"\u001b[0m\u001b[0;34m\u001b[0m\u001b[0;34m\u001b[0m\u001b[0m\n\u001b[0;32m----> 3\u001b[0;31m \u001b[0mprint\u001b[0m\u001b[0;34m(\u001b[0m\u001b[0mp\u001b[0m\u001b[0;34m.\u001b[0m\u001b[0msplitline\u001b[0m\u001b[0;34m(\u001b[0m\u001b[0;34m'true'\u001b[0m\u001b[0;34m)\u001b[0m\u001b[0;34m)\u001b[0m\u001b[0;34m\u001b[0m\u001b[0;34m\u001b[0m\u001b[0m\n\u001b[0m",
            "\u001b[0;31mAttributeError\u001b[0m: 'str' object has no attribute 'splitline'"
          ]
        }
      ]
    },
    {
      "cell_type": "code",
      "source": [
        "#startswith\n",
        "p=\"This is demo.This is another demo\"\n",
        "print(p.startswith(\"other\",15,20))"
      ],
      "metadata": {
        "colab": {
          "base_uri": "https://localhost:8080/"
        },
        "id": "_XUyey6helWB",
        "outputId": "4220098c-3f57-499d-b72e-21e8bc297b54"
      },
      "execution_count": null,
      "outputs": [
        {
          "output_type": "stream",
          "name": "stdout",
          "text": [
            "False\n"
          ]
        }
      ]
    },
    {
      "cell_type": "code",
      "source": [
        "#swapcase()\n",
        "p=\"This is demo.This is another demo\"\n",
        "print(p.swapcase())"
      ],
      "metadata": {
        "colab": {
          "base_uri": "https://localhost:8080/"
        },
        "id": "e1RYRFC_e9Bw",
        "outputId": "d8c7167d-0972-4b28-fd33-09c6c7765372"
      },
      "execution_count": null,
      "outputs": [
        {
          "output_type": "stream",
          "name": "stdout",
          "text": [
            "tHIS IS DEMO.tHIS IS ANOTHER DEMO\n"
          ]
        }
      ]
    },
    {
      "cell_type": "code",
      "source": [
        "#zfill() z means zero\n",
        "p=\"wow!\"\n",
        "print(p.zfill(7))"
      ],
      "metadata": {
        "colab": {
          "base_uri": "https://localhost:8080/"
        },
        "id": "EHOPhWPbfOar",
        "outputId": "817f9471-2e95-4de9-c3c5-9462336a019d"
      },
      "execution_count": null,
      "outputs": [
        {
          "output_type": "stream",
          "name": "stdout",
          "text": [
            "000wow!\n"
          ]
        }
      ]
    },
    {
      "cell_type": "code",
      "source": [
        "#title()\n",
        "p=\"my name is pujitha\"\n",
        "print(p.title())"
      ],
      "metadata": {
        "colab": {
          "base_uri": "https://localhost:8080/"
        },
        "id": "zqDcpLNffdXj",
        "outputId": "e2b8d047-1542-4d76-e132-429991830095"
      },
      "execution_count": null,
      "outputs": [
        {
          "output_type": "stream",
          "name": "stdout",
          "text": [
            "My Name Is Pujitha\n"
          ]
        }
      ]
    },
    {
      "cell_type": "code",
      "source": [
        "#strip ()\n",
        "p=\"######10.50\"\n",
        "print(p.strip('#'))"
      ],
      "metadata": {
        "colab": {
          "base_uri": "https://localhost:8080/"
        },
        "id": "tEfx5nLUfv7t",
        "outputId": "cd462a74-e773-4cd5-b1da-f725a6732b5d"
      },
      "execution_count": null,
      "outputs": [
        {
          "output_type": "stream",
          "name": "stdout",
          "text": [
            "10.50\n"
          ]
        }
      ]
    },
    {
      "cell_type": "code",
      "source": [
        "#encode()\n",
        "p=\"Hello, world!\"\n",
        "print(p.encode('utf-8 '))"
      ],
      "metadata": {
        "colab": {
          "base_uri": "https://localhost:8080/"
        },
        "id": "kPmeZfkvf_z8",
        "outputId": "205f2273-8440-4327-8b46-55d2b161dd67"
      },
      "execution_count": null,
      "outputs": [
        {
          "output_type": "stream",
          "name": "stdout",
          "text": [
            "b'Hello, world!'\n"
          ]
        }
      ]
    },
    {
      "cell_type": "code",
      "source": [
        "\n",
        "#format()\n",
        "name = \"John\"\n",
        "age = 30\n",
        "formatted_string = \"My name is {} and I am {} years old.\".format(name, age)\n",
        "print(formatted_string)"
      ],
      "metadata": {
        "colab": {
          "base_uri": "https://localhost:8080/"
        },
        "id": "1pEVVAVihLLJ",
        "outputId": "3f2a9df8-db64-443c-98ca-959b5f8a233f"
      },
      "execution_count": null,
      "outputs": [
        {
          "output_type": "stream",
          "name": "stdout",
          "text": [
            "My name is John and I am 30 years old.\n"
          ]
        }
      ]
    },
    {
      "cell_type": "code",
      "source": [
        "#translate ()\n",
        "original_string = \"Hello, World!\"\n",
        "translation_table = str.maketrans(\"HW\", \"hw\")\n",
        "translated_string = original_string.translate(translation_table)\n",
        "print(translated_string)"
      ],
      "metadata": {
        "colab": {
          "base_uri": "https://localhost:8080/"
        },
        "id": "CJ1ELB_0igHK",
        "outputId": "aeab5e19-1be3-4835-e056-49d59133efa7"
      },
      "execution_count": null,
      "outputs": [
        {
          "output_type": "stream",
          "name": "stdout",
          "text": [
            "hello, world!\n"
          ]
        }
      ]
    },
    {
      "cell_type": "code",
      "source": [
        "#anagram\n",
        "p=\"listen\"\n",
        "q=\"silent\"\n",
        "is_anagram=sorted_p==sorted_q\n",
        "if is_anagram:\n",
        "   print(\"The words are anagrams\")\n",
        "else:\n",
        "   print(\"The words are not anagrams\")"
      ],
      "metadata": {
        "colab": {
          "base_uri": "https://localhost:8080/"
        },
        "id": "GGV_ryIV85oC",
        "outputId": "64930dfb-34a4-403b-f72b-040971a71097"
      },
      "execution_count": null,
      "outputs": [
        {
          "output_type": "stream",
          "name": "stdout",
          "text": [
            "The words are anagrams\n"
          ]
        }
      ]
    },
    {
      "cell_type": "code",
      "source": [
        "p=input(\"Enter a string:\"). lower()\n",
        "\n",
        "if p==p[::-1]:\n",
        "   print(\"string is palindrome\")\n",
        "else:\n",
        "   print(\"string is not palindrome\")"
      ],
      "metadata": {
        "colab": {
          "base_uri": "https://localhost:8080/"
        },
        "id": "db-pbrx5Agul",
        "outputId": "477aa071-b962-4ee1-a81e-0a545f06505f"
      },
      "execution_count": null,
      "outputs": [
        {
          "output_type": "stream",
          "name": "stdout",
          "text": [
            "Enter a string:MAM\n",
            "string is palindrome\n"
          ]
        }
      ]
    },
    {
      "cell_type": "code",
      "source": [
        "length=5\n",
        "breadth=6\n",
        "area=length*breadth\n",
        "print(\"Area of rectangle:\",area)"
      ],
      "metadata": {
        "colab": {
          "base_uri": "https://localhost:8080/"
        },
        "id": "jsgHdXv3IPBz",
        "outputId": "4a8d92df-9c37-47e9-c26c-2dcf21b04290"
      },
      "execution_count": null,
      "outputs": [
        {
          "output_type": "stream",
          "name": "stdout",
          "text": [
            "Area of rectangle: 30\n"
          ]
        }
      ]
    },
    {
      "cell_type": "code",
      "source": [
        "base=int(input (\"Enter the numbers:\"))\n",
        "height=int(input(\"enter the number:\"))\n",
        "area=1/2*height*base\n",
        "print(\"Area of triangle:\",area)"
      ],
      "metadata": {
        "colab": {
          "base_uri": "https://localhost:8080/"
        },
        "id": "AFYJxd-VQbyI",
        "outputId": "b32a6e8d-8b6e-44da-e9fc-7daa9290fb18"
      },
      "execution_count": null,
      "outputs": [
        {
          "output_type": "stream",
          "name": "stdout",
          "text": [
            "Enter the numbers:12\n",
            "enter the number:4\n",
            "Area of triangle: 24.0\n"
          ]
        }
      ]
    },
    {
      "cell_type": "code",
      "source": [
        "r=int(input(\"Enter the numbers:\"))\n",
        "area=3.14*r*r\n",
        "print(\"Area of circle:\",area)"
      ],
      "metadata": {
        "colab": {
          "base_uri": "https://localhost:8080/"
        },
        "id": "WJVKrfGAT9Uw",
        "outputId": "0d8e3651-63c8-4ccd-e152-335be2783818"
      },
      "execution_count": null,
      "outputs": [
        {
          "output_type": "stream",
          "name": "stdout",
          "text": [
            "Enter the numbers:6\n",
            "Area of circle: 113.03999999999999\n"
          ]
        }
      ]
    },
    {
      "cell_type": "code",
      "source": [
        "\n",
        "n=int(input(\"Enter a number:\"))\n",
        "fact=1\n",
        "for i in range(1,n+1):\n",
        "    fact*=i\n",
        "print(fact)"
      ],
      "metadata": {
        "colab": {
          "base_uri": "https://localhost:8080/"
        },
        "id": "4WtaWXazUIKo",
        "outputId": "48a3d548-dc70-4fa0-b5f4-f1ce0e682a41"
      },
      "execution_count": null,
      "outputs": [
        {
          "output_type": "stream",
          "name": "stdout",
          "text": [
            "Enter a number:7\n",
            "5040\n"
          ]
        }
      ]
    },
    {
      "cell_type": "code",
      "source": [
        "def factorial(n):\n",
        "    if n==0 or n==1:\n",
        "       return 1\n",
        "    else:\n",
        "       return n*factorial(n-1)\n",
        "factorial(6)"
      ],
      "metadata": {
        "colab": {
          "base_uri": "https://localhost:8080/"
        },
        "id": "Ptx_Y5izkYZJ",
        "outputId": "34560b7c-7d96-47d9-d575-c9ea2029c736"
      },
      "execution_count": null,
      "outputs": [
        {
          "output_type": "execute_result",
          "data": {
            "text/plain": [
              "720"
            ]
          },
          "metadata": {},
          "execution_count": 97
        }
      ]
    },
    {
      "cell_type": "code",
      "source": [
        "def palindrome(p):\n",
        "    if p==p[::-1]:\n",
        "       return\"string is palindrome\"\n",
        "    else:\n",
        "       return\"string is not palindrome\"\n",
        "p='mam'\n",
        "palindrome (p)"
      ],
      "metadata": {
        "id": "BrFgC8DyW6un",
        "colab": {
          "base_uri": "https://localhost:8080/",
          "height": 35
        },
        "outputId": "87fa953f-219d-495e-d200-52620afa70fb"
      },
      "execution_count": null,
      "outputs": [
        {
          "output_type": "execute_result",
          "data": {
            "text/plain": [
              "'string is palindrome'"
            ],
            "application/vnd.google.colaboratory.intrinsic+json": {
              "type": "string"
            }
          },
          "metadata": {},
          "execution_count": 98
        }
      ]
    },
    {
      "cell_type": "code",
      "source": [
        "def anagram(p,q):\n",
        "    if (sorted(p)==sorted(q)):\n",
        "       print(\"These are anagram\")\n",
        "    else:\n",
        "       print(\"These are not anagram\")\n",
        "\n",
        "p=\"listen\"\n",
        "q=\"silent\"\n",
        "anagram(p,q)"
      ],
      "metadata": {
        "colab": {
          "base_uri": "https://localhost:8080/"
        },
        "id": "eOE-8W1LmtM8",
        "outputId": "3fe62cd8-071c-4743-f2e7-529f7d3fbdba"
      },
      "execution_count": null,
      "outputs": [
        {
          "output_type": "stream",
          "name": "stdout",
          "text": [
            "These are anagram\n"
          ]
        }
      ]
    },
    {
      "cell_type": "code",
      "source": [
        "def circle (r):\n",
        "    area =3.14*r**2\n",
        "    return(area)\n",
        "circle(2)"
      ],
      "metadata": {
        "colab": {
          "base_uri": "https://localhost:8080/"
        },
        "id": "uu0_6KkWCK6D",
        "outputId": "a13e2d47-4be0-4908-b269-6d22eeeb1c9d"
      },
      "execution_count": null,
      "outputs": [
        {
          "output_type": "execute_result",
          "data": {
            "text/plain": [
              "12.56"
            ]
          },
          "metadata": {},
          "execution_count": 4
        }
      ]
    },
    {
      "cell_type": "code",
      "source": [
        "\n",
        "p=10\n",
        "a = int(input(\"Tell me how many you need: \"))\n",
        "i = 1\n",
        "while i <= a:\n",
        "\n",
        "      if i> p:\n",
        "         break;\n",
        "         print(\"I have enough.\")\n",
        "      i += 1\n",
        "if a<=p:\n",
        "         print(\"yes I have\")"
      ],
      "metadata": {
        "colab": {
          "base_uri": "https://localhost:8080/"
        },
        "id": "eN9jvSa3hra9",
        "outputId": "57e815c1-05f5-4615-c0a9-e56a63560731"
      },
      "execution_count": null,
      "outputs": [
        {
          "output_type": "stream",
          "name": "stdout",
          "text": [
            "Tell me how many you need: 4\n",
            "yes I have\n"
          ]
        }
      ]
    },
    {
      "cell_type": "code",
      "source": [
        "n=int(input(\"Enter the number:\"))\n",
        "for i in range(n):\n",
        "    if i%6==0 or i%5==0:\n",
        "       continue\n",
        "    print(i)"
      ],
      "metadata": {
        "colab": {
          "base_uri": "https://localhost:8080/"
        },
        "id": "IXfvxyZvoQol",
        "outputId": "eeb24aa6-0e3d-446c-e097-1311c32c9973"
      },
      "execution_count": null,
      "outputs": [
        {
          "output_type": "stream",
          "name": "stdout",
          "text": [
            "Enter the number:20\n",
            "1\n",
            "2\n",
            "3\n",
            "4\n",
            "7\n",
            "8\n",
            "9\n",
            "11\n",
            "13\n",
            "14\n",
            "16\n",
            "17\n",
            "19\n"
          ]
        }
      ]
    },
    {
      "cell_type": "code",
      "source": [
        "n=int(input(\"Enter the number:\"))\n",
        "i=1\n",
        "for i in range(n):\n",
        "    if i%8==0:\n",
        "       pass\n",
        "    print(i)"
      ],
      "metadata": {
        "colab": {
          "base_uri": "https://localhost:8080/"
        },
        "id": "Edbl0iENqKl2",
        "outputId": "f89053d5-f07b-425a-bdf6-75391cd4aef5"
      },
      "execution_count": null,
      "outputs": [
        {
          "output_type": "stream",
          "name": "stdout",
          "text": [
            "Enter the number:10\n",
            "0\n",
            "1\n",
            "2\n",
            "3\n",
            "4\n",
            "5\n",
            "6\n",
            "7\n",
            "8\n",
            "9\n"
          ]
        }
      ]
    },
    {
      "cell_type": "code",
      "source": [
        "a=10\n",
        "n=int(input(\"Enter the number:\"))\n",
        "if a>n:\n",
        "   pass\n",
        "   print(\"pujitha\")\n",
        "if a<n:\n",
        "   print(\"krishna\")"
      ],
      "metadata": {
        "colab": {
          "base_uri": "https://localhost:8080/"
        },
        "id": "Y6LTzrHCshSr",
        "outputId": "a5526a41-39f8-47ec-8565-9200597ea6df"
      },
      "execution_count": null,
      "outputs": [
        {
          "output_type": "stream",
          "name": "stdout",
          "text": [
            "Enter the number:15\n",
            "krishna\n"
          ]
        }
      ]
    },
    {
      "cell_type": "code",
      "source": [
        "n = float(input(\"Enter a square number: \"))\n",
        "Sqr = n**(1/2)\n",
        "print(\"Square root of the given number:\", Sqr)"
      ],
      "metadata": {
        "colab": {
          "base_uri": "https://localhost:8080/"
        },
        "id": "61gVMRZgxdfc",
        "outputId": "14be1b8a-fe63-46cc-8e94-b1a9cdddd058"
      },
      "execution_count": null,
      "outputs": [
        {
          "output_type": "stream",
          "name": "stdout",
          "text": [
            "Enter a square number: 64\n",
            "Square root of the given number: 8.0\n"
          ]
        }
      ]
    },
    {
      "cell_type": "code",
      "source": [
        "base = float(input(\"Enter a base of triangle:\"))\n",
        "\n",
        "height = float(input(\"Enter a height of triangle:\"))\n",
        "area = 1/2*base*height\n",
        "print(\"Area of a triangle:\", area)"
      ],
      "metadata": {
        "colab": {
          "base_uri": "https://localhost:8080/"
        },
        "id": "6W4_c7b7yPZ8",
        "outputId": "957656ae-82e9-47c4-8727-d7d1e2340b0a"
      },
      "execution_count": null,
      "outputs": [
        {
          "output_type": "stream",
          "name": "stdout",
          "text": [
            "Enter a base of triangle:4.5\n",
            "Enter a height of triangle:6.9\n",
            "Area of a triangle: 15.525\n"
          ]
        }
      ]
    },
    {
      "cell_type": "code",
      "source": [
        "x = float(input(\"Enter a number 1 : \"))\n",
        "y = float(input(\"Enter a number 2 ;\"))\n",
        "temp = x\n",
        "print(\"The value of temp is : \",temp)\n",
        "x = y\n",
        "print(\"The value of x is : \",x)\n",
        "print(\"The value of y is : \",y)"
      ],
      "metadata": {
        "colab": {
          "base_uri": "https://localhost:8080/"
        },
        "id": "O-eMKNWnzTCe",
        "outputId": "47e726d6-a37a-431f-e51e-da19dee6bcd1"
      },
      "execution_count": null,
      "outputs": [
        {
          "output_type": "stream",
          "name": "stdout",
          "text": [
            "Enter a number 1 : 8\n",
            "Enter a number 2 ;9\n",
            "The value of temp is :  8.0\n",
            "The value of x is :  9.0\n",
            "The value of y is :  9.0\n"
          ]
        }
      ]
    },
    {
      "cell_type": "code",
      "source": [
        "km = float(input(\"Enter number of kilometres:\"))\n",
        "miles = km*0.621371\n",
        "print(\"km in miles is:\",miles)"
      ],
      "metadata": {
        "colab": {
          "base_uri": "https://localhost:8080/"
        },
        "id": "RTwe7Ncn0fdx",
        "outputId": "0a212e0a-c684-4f71-9dc1-e71adfb25f35"
      },
      "execution_count": null,
      "outputs": [
        {
          "output_type": "stream",
          "name": "stdout",
          "text": [
            "Enter number of kilometres:5\n",
            "km in miles is: 3.106855\n"
          ]
        }
      ]
    },
    {
      "cell_type": "code",
      "source": [
        "n = int(input(\"Enter a number: \"))\n",
        "if n >0:\n",
        "   print(\"positive\")\n",
        "elif n<0:\n",
        "   print(\"negative\")\n",
        "else:\n",
        "   print(\"zero\")"
      ],
      "metadata": {
        "colab": {
          "base_uri": "https://localhost:8080/"
        },
        "id": "qdeRVx974lnG",
        "outputId": "9aef481f-bc54-4a49-f061-27bef026bb9d"
      },
      "execution_count": null,
      "outputs": [
        {
          "output_type": "stream",
          "name": "stdout",
          "text": [
            "Enter a number: 7\n",
            "positive\n"
          ]
        }
      ]
    },
    {
      "cell_type": "code",
      "source": [
        "a = int(input(\"Enter a number:\" ))\n",
        "b = int(input(\"Enter a number:\" ))\n",
        "c = int(input(\"Enter a number: \"))\n",
        "if a>b and a>c:\n",
        "    print(\"a is greater\")\n",
        "elif b>c:\n",
        "    print(\"b is greater\")\n",
        "elif c>a:\n",
        "    print(\"c is greater\")"
      ],
      "metadata": {
        "colab": {
          "base_uri": "https://localhost:8080/"
        },
        "id": "m292BT2g5VSh",
        "outputId": "c45da9f5-2758-489b-e341-d04e6589d3c7"
      },
      "execution_count": null,
      "outputs": [
        {
          "output_type": "stream",
          "name": "stdout",
          "text": [
            "Enter a number:5\n",
            "Enter a number:3\n",
            "Enter a number: 2\n",
            "a is greater\n"
          ]
        }
      ]
    },
    {
      "cell_type": "code",
      "source": [
        "def check_its_leap_year(year):\n",
        "    if year % 400 == 0:\n",
        "       print(year,\"is a leap year : \")\n",
        "    elif year % 4 == 0 and year%100!=0:\n",
        "        print(year,\"is a leap year:\")\n",
        "    else:\n",
        "        print(year,\"is not a leap year\")\n",
        "year = int(input(\"Enter a year :\"))\n",
        "check_its_leap_year(year)"
      ],
      "metadata": {
        "colab": {
          "base_uri": "https://localhost:8080/"
        },
        "id": "qgoDpETzcHXW",
        "outputId": "525c033c-cc91-4b3a-de57-f8e9c2dae9ad"
      },
      "execution_count": null,
      "outputs": [
        {
          "output_type": "stream",
          "name": "stdout",
          "text": [
            "Enter a year :2023\n",
            "2023 is not a leap year\n"
          ]
        }
      ]
    },
    {
      "cell_type": "code",
      "source": [
        "def prime_numbers(n):\n",
        "    for i in range(2, n):  # Start from 2, as 1 is not a prime number\n",
        "        is_prime = True\n",
        "        for j in range(2, int(i**0.5) + 1):  # Check divisors up to the square root of `i`\n",
        "            if i % j == 0:\n",
        "                is_prime = False\n",
        "                break\n",
        "        if is_prime:\n",
        "            print(i)\n",
        "\n",
        "n = int(input(\"Enter a number: \"))\n",
        "prime_numbers(n)"
      ],
      "metadata": {
        "colab": {
          "base_uri": "https://localhost:8080/"
        },
        "id": "dd96vGFSM4w7",
        "outputId": "2f161566-67a0-4779-9dc4-6e36ed967d8d"
      },
      "execution_count": null,
      "outputs": [
        {
          "output_type": "stream",
          "name": "stdout",
          "text": [
            "Enter a number: 10\n",
            "2\n",
            "3\n",
            "5\n",
            "7\n"
          ]
        }
      ]
    },
    {
      "cell_type": "code",
      "source": [
        "# Generate a Random number\n",
        "import random\n",
        "\n",
        "# Generate a random number between a specified range\n",
        "lower = int(input(\"Enter the lower limit: \"))\n",
        "upper = int(input(\"Enter the upper limit: \"))\n",
        "\n",
        "# Generate random number\n",
        "random_number = random.randint(lower, upper)\n",
        "print(f\"Random number between {lower} and {upper}: {random_number}\")"
      ],
      "metadata": {
        "colab": {
          "base_uri": "https://localhost:8080/"
        },
        "id": "CLvfd7lvQvt0",
        "outputId": "df8a3b5d-f219-45f7-b2ec-13de095b5d89"
      },
      "execution_count": null,
      "outputs": [
        {
          "output_type": "stream",
          "name": "stdout",
          "text": [
            "Enter the lower limit: 1\n",
            "Enter the upper limit: 100\n",
            "Random number between 1 and 100: 9\n"
          ]
        }
      ]
    },
    {
      "cell_type": "code",
      "source": [
        "n=int(input(\"Enter a number: \"))\n",
        "count=0\n",
        "for i in range (1,n+1):\n",
        "    if n%i==0:\n",
        "      count=count+1\n",
        "\n",
        "if count==2:\n",
        "   print(n,\"is a prime number\")\n",
        "else:\n",
        "   print(n,\"is not a prime number\")"
      ],
      "metadata": {
        "colab": {
          "base_uri": "https://localhost:8080/"
        },
        "id": "GLtPdJRAWC5N",
        "outputId": "553bc36e-1d1d-4c14-bbf9-618fdccb025d"
      },
      "execution_count": null,
      "outputs": [
        {
          "output_type": "stream",
          "name": "stdout",
          "text": [
            "Enter a number: 6\n",
            "6 is not a prime number\n"
          ]
        }
      ]
    },
    {
      "cell_type": "code",
      "source": [
        "def operation(x):\n",
        "    count=0\n",
        "    for i in range(1,x+1):\n",
        "        if x%i==0:\n",
        "           count=count+1\n",
        "    if count==2:\n",
        "        return\"it is a prime number\"\n",
        "    else:\n",
        "       return\"it is a not a prime number\"\n",
        "x=int(input(\"Enter a number:\"))\n",
        "operation(x)"
      ],
      "metadata": {
        "colab": {
          "base_uri": "https://localhost:8080/",
          "height": 53
        },
        "id": "FepUZ3VDcm6Y",
        "outputId": "dffc5870-b97a-46be-acc9-9b8e87e80267"
      },
      "execution_count": null,
      "outputs": [
        {
          "name": "stdout",
          "output_type": "stream",
          "text": [
            "Enter a number:9\n"
          ]
        },
        {
          "output_type": "execute_result",
          "data": {
            "text/plain": [
              "'it is a not a prime number'"
            ],
            "application/vnd.google.colaboratory.intrinsic+json": {
              "type": "string"
            }
          },
          "metadata": {},
          "execution_count": 24
        }
      ]
    },
    {
      "cell_type": "code",
      "source": [
        "import random\n",
        "def random_number(x,y):\n",
        "   R= random.randint(x,y)\n",
        "   return f\"The random number between {x} and {y} is:{R}\"\n",
        "x=int(input(\"Enter a number:\"))\n",
        "y=int(input(\"Enter a number:\"))\n",
        "print(random_number(x,y))"
      ],
      "metadata": {
        "colab": {
          "base_uri": "https://localhost:8080/"
        },
        "id": "O6hAd54GjFQs",
        "outputId": "6d95546b-c074-4ce3-a254-2d22334e371b"
      },
      "execution_count": null,
      "outputs": [
        {
          "output_type": "stream",
          "name": "stdout",
          "text": [
            "Enter a number:1\n",
            "Enter a number:100\n",
            "The random number between 1 and 100 is:87\n"
          ]
        }
      ]
    },
    {
      "cell_type": "code",
      "source": [
        "lower= int(input(\"Enter a number:\"))\n",
        "upper= int(input(\"Enter a number:\"))\n",
        "for num in range (lower,upper+1):\n",
        "    if num>1:\n",
        "       for i in range(2,upper+1):\n",
        "           if num%i==0:\n",
        "              break\n",
        "       else:\n",
        "          print(num)"
      ],
      "metadata": {
        "colab": {
          "base_uri": "https://localhost:8080/"
        },
        "id": "gLyH6pUS6JS9",
        "outputId": "c9bb204c-da72-4293-f5b7-32a97c733b73"
      },
      "execution_count": null,
      "outputs": [
        {
          "name": "stdout",
          "output_type": "stream",
          "text": [
            "Enter a number:2\n",
            "Enter a number:25\n"
          ]
        }
      ]
    },
    {
      "cell_type": "code",
      "source": [
        "def prime_numbers_in_range(start, end):\n",
        "    primes = []\n",
        "    for num in range(start, end + 1):  # Include `end` in the range\n",
        "        if num > 1:  # Prime numbers are greater than 1\n",
        "            for i in range(2, int(num ** 0.5) + 1):  # Check divisors up to the square root of the number\n",
        "                if num % i == 0:\n",
        "                    break\n",
        "            else:  # Executes if the loop doesn't encounter a `break`\n",
        "                primes.append(num)\n",
        "    return primes\n",
        "\n",
        "# Input from the user\n",
        "end = int(input(\"Enter the end of the range: \"))\n",
        "start = int(input(\"Enter the start of the range: \"))\n",
        "print(\"Prime numbers:\", prime_numbers_in_range(start, end))"
      ],
      "metadata": {
        "colab": {
          "base_uri": "https://localhost:8080/"
        },
        "id": "tATilpbT7BIx",
        "outputId": "7b768fd7-6fd9-48f2-b902-0b1321f226d6"
      },
      "execution_count": null,
      "outputs": [
        {
          "output_type": "stream",
          "name": "stdout",
          "text": [
            "Enter the end of the range: 20\n",
            "Enter the start of the range: 10\n",
            "Prime numbers: [11, 13, 17, 19]\n"
          ]
        }
      ]
    },
    {
      "cell_type": "code",
      "source": [
        "C = int(input(\"Enter the temperature in celsius:\"))\n",
        "Fahrenheit = (C*(9/5))+32\n",
        "print(\"The temperature is converted to Fahrenheit:\", Fahrenheit)"
      ],
      "metadata": {
        "colab": {
          "base_uri": "https://localhost:8080/"
        },
        "id": "K0indgJ8F0TX",
        "outputId": "5b1a5bc4-c38f-482c-85c9-81b78d16b227"
      },
      "execution_count": null,
      "outputs": [
        {
          "output_type": "stream",
          "name": "stdout",
          "text": [
            "Enter the temperature in celsius:12\n",
            "The temperature is converted to Fahrenheit: 53.6\n"
          ]
        }
      ]
    },
    {
      "cell_type": "code",
      "source": [
        "def factorial_number(num):\n",
        "    fact = 1\n",
        "    if num < 0:\n",
        "        return \"Factorial of negative numbers doesn't exist.\"\n",
        "    elif num == 0:\n",
        "        return 1  # Factorial of 0 is 1\n",
        "    else:\n",
        "        for i in range(1, num + 1):\n",
        "            fact *= i  # Multiply `fact` by the current number\n",
        "        return fact  # Return the factorial\n",
        "\n",
        "# Input from the user\n",
        "num = int(input(\"Enter the number: \"))\n",
        "\n",
        "print(\"The factorial of the number:\",factorial_number(num))"
      ],
      "metadata": {
        "colab": {
          "base_uri": "https://localhost:8080/"
        },
        "id": "gquC2Ew02JGd",
        "outputId": "c21cdf6f-8ff8-4e48-ae73-122d9ee47112"
      },
      "execution_count": null,
      "outputs": [
        {
          "output_type": "stream",
          "name": "stdout",
          "text": [
            "Enter the number: 6\n",
            "The factorial of the number: 720\n"
          ]
        }
      ]
    },
    {
      "cell_type": "code",
      "source": [
        "def fact(a):\n",
        "    if a==0:\n",
        "        return 1\n",
        "    elif a<1:\n",
        "         return \"doesn't exist\"\n",
        "    else:\n",
        "         return((a)*fact(a-1))\n",
        "a = int(input(\"Enter the number:\"))\n",
        "print(\"The factorial of a number:\",fact(a))"
      ],
      "metadata": {
        "colab": {
          "base_uri": "https://localhost:8080/"
        },
        "id": "1d-mH6oJ6UYN",
        "outputId": "66fc7989-4936-4f56-dcb4-3006eaa831ea"
      },
      "execution_count": null,
      "outputs": [
        {
          "output_type": "stream",
          "name": "stdout",
          "text": [
            "Enter the number:-5\n",
            "The factorial of a number: doesn't exist\n"
          ]
        }
      ]
    },
    {
      "cell_type": "code",
      "source": [
        "def table(n):\n",
        "    for i in range(1,n+1):\n",
        "        print( n,\"*\",i,\"=\",n*i)\n",
        "n= int(input(\"Enter the number:\"))\n",
        "table(n)"
      ],
      "metadata": {
        "colab": {
          "base_uri": "https://localhost:8080/"
        },
        "id": "gJSpodbvLgXm",
        "outputId": "6a2b3a70-f4cc-41ff-cf5e-355cddd497b0"
      },
      "execution_count": null,
      "outputs": [
        {
          "output_type": "stream",
          "name": "stdout",
          "text": [
            "Enter the number:13\n",
            "13 * 1 = 13\n",
            "13 * 2 = 26\n",
            "13 * 3 = 39\n",
            "13 * 4 = 52\n",
            "13 * 5 = 65\n",
            "13 * 6 = 78\n",
            "13 * 7 = 91\n",
            "13 * 8 = 104\n",
            "13 * 9 = 117\n",
            "13 * 10 = 130\n",
            "13 * 11 = 143\n",
            "13 * 12 = 156\n",
            "13 * 13 = 169\n"
          ]
        }
      ]
    },
    {
      "cell_type": "code",
      "source": [
        "\n",
        "num = int(input(\"Enter the number:\"))\n",
        "\n",
        "sum = 0\n",
        "temp = num\n",
        "while temp>0:\n",
        "      digit = temp%10\n",
        "      sum+= digit**3\n",
        "      temp //=10\n",
        "if num == sum:\n",
        "    print(num,\"Armstrong number\")\n",
        "else:\n",
        "\n",
        "    print(num,\"not Armstrong number\")"
      ],
      "metadata": {
        "colab": {
          "base_uri": "https://localhost:8080/"
        },
        "id": "amUd_ewpxnH8",
        "outputId": "39ac22fb-b6e5-4b5e-fba5-109b1b32f5ca"
      },
      "execution_count": null,
      "outputs": [
        {
          "output_type": "stream",
          "name": "stdout",
          "text": [
            "Enter the number:2003\n",
            "2003 not Armstrong number\n"
          ]
        }
      ]
    },
    {
      "cell_type": "code",
      "source": [
        "def armstrong_number(num):\n",
        "     sum = 0\n",
        "     temp = num\n",
        "     while temp>0:\n",
        "          digit = temp%10\n",
        "          sum+= digit**3\n",
        "          temp //=10\n",
        "     if num==sum:\n",
        "         return\"Armstrong number\"\n",
        "     else:\n",
        "         return\"Not Armstrong number\"\n",
        "num = int(input(\"Enter the number:\"))\n",
        "print(armstrong_number(num))"
      ],
      "metadata": {
        "colab": {
          "base_uri": "https://localhost:8080/"
        },
        "id": "t8INOoSA0eFs",
        "outputId": "a1db8855-cffc-42dd-b186-0c30e1862063"
      },
      "execution_count": null,
      "outputs": [
        {
          "output_type": "stream",
          "name": "stdout",
          "text": [
            "Enter the number:406\n",
            "Not Armstrong number\n"
          ]
        }
      ]
    },
    {
      "cell_type": "code",
      "source": [
        "def natural_numbers(n):\n",
        "\n",
        "    sum=0\n",
        "    for i in range (1,n+1):\n",
        "         sum+=i\n",
        "    return sum\n",
        "\n",
        "n= int(input(\"Enter the number:\"))\n",
        "print(\"sum=\",natural_numbers(n))"
      ],
      "metadata": {
        "id": "eyHmzDnk15oC",
        "colab": {
          "base_uri": "https://localhost:8080/"
        },
        "outputId": "295a3e56-a17a-4433-fc4c-a1d3077bbbb2"
      },
      "execution_count": null,
      "outputs": [
        {
          "output_type": "stream",
          "name": "stdout",
          "text": [
            "Enter the number:10\n",
            "sum= 55\n"
          ]
        }
      ]
    },
    {
      "cell_type": "code",
      "source": [
        "n = int(input(\"enter the number:\"))\n",
        "for i in range(1,n+1):\n",
        "    print(i**2)"
      ],
      "metadata": {
        "id": "VnEHws7_2QAd",
        "colab": {
          "base_uri": "https://localhost:8080/"
        },
        "outputId": "da6e96c8-1918-48bb-ad9c-1d81be2033dd"
      },
      "execution_count": null,
      "outputs": [
        {
          "output_type": "stream",
          "name": "stdout",
          "text": [
            "enter the number:10\n",
            "1\n",
            "4\n",
            "9\n",
            "16\n",
            "25\n",
            "36\n",
            "49\n",
            "64\n",
            "81\n",
            "100\n"
          ]
        }
      ]
    },
    {
      "cell_type": "code",
      "source": [
        " #Divisible numbers of another number\n",
        "for i in range(1,10):\n",
        "    if i%3 ==0:\n",
        "       print(i)"
      ],
      "metadata": {
        "colab": {
          "base_uri": "https://localhost:8080/"
        },
        "id": "1Qr_ZbMx7Jij",
        "outputId": "69cd6e55-29c0-440c-f4cc-73eab6252fc1"
      },
      "execution_count": null,
      "outputs": [
        {
          "output_type": "stream",
          "name": "stdout",
          "text": [
            "3\n",
            "6\n",
            "9\n"
          ]
        }
      ]
    },
    {
      "cell_type": "code",
      "source": [
        "n = [1,2,3,4,5,6,7,8,9,10,13]\n",
        "result = list(filter(lambda x:x%3 == 0,n))\n",
        "print(result)"
      ],
      "metadata": {
        "colab": {
          "base_uri": "https://localhost:8080/"
        },
        "id": "rD2osJQR74KU",
        "outputId": "bbfe23c9-a4ba-4a3b-ef1f-5350c361cdf3"
      },
      "execution_count": null,
      "outputs": [
        {
          "output_type": "stream",
          "name": "stdout",
          "text": [
            "[3, 6, 9]\n"
          ]
        }
      ]
    },
    {
      "cell_type": "code",
      "source": [
        "#python program to find ASCII value\n",
        "a = \"a\"\n",
        "print(\"ASCII value is :\",ord(a))"
      ],
      "metadata": {
        "colab": {
          "base_uri": "https://localhost:8080/"
        },
        "id": "AfjD4mgV8vii",
        "outputId": "41839491-0054-4327-f966-170a3d3c1268"
      },
      "execution_count": null,
      "outputs": [
        {
          "output_type": "stream",
          "name": "stdout",
          "text": [
            "ASCII value is : 97\n"
          ]
        }
      ]
    },
    {
      "cell_type": "code",
      "source": [
        "#print all ASCII values\n",
        "for i in range(33,126):\n",
        "    print(i,\"=\",chr(i))"
      ],
      "metadata": {
        "colab": {
          "base_uri": "https://localhost:8080/"
        },
        "id": "D6qKnm9i9R5Z",
        "outputId": "afe077ed-d688-4525-d70d-af82f663e104"
      },
      "execution_count": null,
      "outputs": [
        {
          "output_type": "stream",
          "name": "stdout",
          "text": [
            "33 = !\n",
            "34 = \"\n",
            "35 = #\n",
            "36 = $\n",
            "37 = %\n",
            "38 = &\n",
            "39 = '\n",
            "40 = (\n",
            "41 = )\n",
            "42 = *\n",
            "43 = +\n",
            "44 = ,\n",
            "45 = -\n",
            "46 = .\n",
            "47 = /\n",
            "48 = 0\n",
            "49 = 1\n",
            "50 = 2\n",
            "51 = 3\n",
            "52 = 4\n",
            "53 = 5\n",
            "54 = 6\n",
            "55 = 7\n",
            "56 = 8\n",
            "57 = 9\n",
            "58 = :\n",
            "59 = ;\n",
            "60 = <\n",
            "61 = =\n",
            "62 = >\n",
            "63 = ?\n",
            "64 = @\n",
            "65 = A\n",
            "66 = B\n",
            "67 = C\n",
            "68 = D\n",
            "69 = E\n",
            "70 = F\n",
            "71 = G\n",
            "72 = H\n",
            "73 = I\n",
            "74 = J\n",
            "75 = K\n",
            "76 = L\n",
            "77 = M\n",
            "78 = N\n",
            "79 = O\n",
            "80 = P\n",
            "81 = Q\n",
            "82 = R\n",
            "83 = S\n",
            "84 = T\n",
            "85 = U\n",
            "86 = V\n",
            "87 = W\n",
            "88 = X\n",
            "89 = Y\n",
            "90 = Z\n",
            "91 = [\n",
            "92 = \\\n",
            "93 = ]\n",
            "94 = ^\n",
            "95 = _\n",
            "96 = `\n",
            "97 = a\n",
            "98 = b\n",
            "99 = c\n",
            "100 = d\n",
            "101 = e\n",
            "102 = f\n",
            "103 = g\n",
            "104 = h\n",
            "105 = i\n",
            "106 = j\n",
            "107 = k\n",
            "108 = l\n",
            "109 = m\n",
            "110 = n\n",
            "111 = o\n",
            "112 = p\n",
            "113 = q\n",
            "114 = r\n",
            "115 = s\n",
            "116 = t\n",
            "117 = u\n",
            "118 = v\n",
            "119 = w\n",
            "120 = x\n",
            "121 = y\n",
            "122 = z\n",
            "123 = {\n",
            "124 = |\n",
            "125 = }\n"
          ]
        }
      ]
    },
    {
      "cell_type": "code",
      "source": [
        "#to find factors of a number\n",
        "num = int(input(\"Enter the number : \"))\n",
        "for i in range(1,num+1):\n",
        "    if num%i==0:\n",
        "       print(i)"
      ],
      "metadata": {
        "colab": {
          "base_uri": "https://localhost:8080/"
        },
        "id": "vhjmVhUK90wA",
        "outputId": "499ef5db-28e9-42cc-9bd2-bfa066c92d24"
      },
      "execution_count": null,
      "outputs": [
        {
          "output_type": "stream",
          "name": "stdout",
          "text": [
            "Enter the number : 12\n",
            "1\n",
            "2\n",
            "3\n",
            "4\n",
            "6\n",
            "12\n"
          ]
        }
      ]
    },
    {
      "cell_type": "code",
      "source": [
        "def highest_number(x, y):\n",
        "    smaller = 0\n",
        "    if x > y:\n",
        "        smaller = y\n",
        "    else:\n",
        "        smaller = x\n",
        "    hcf = 0\n",
        "    for i in range(1, smaller + 1):\n",
        "        if (x % i == 0) and (y % i == 0):\n",
        "            hcf = i\n",
        "    return hcf\n",
        "\n",
        "x = int(input(\"Enter the first number: \"))\n",
        "y = int(input(\"Enter the second number: \"))\n",
        "print(\"The HCF of 2 numbers {} and {} is {}\".format(x,y, highest_number(x,y)))"
      ],
      "metadata": {
        "colab": {
          "base_uri": "https://localhost:8080/"
        },
        "id": "nn1QYh6CCVaX",
        "outputId": "71131f2c-7a6b-4e6f-d4c0-91d2c4956ed0"
      },
      "execution_count": null,
      "outputs": [
        {
          "output_type": "stream",
          "name": "stdout",
          "text": [
            "Enter the first number: 12\n",
            "Enter the second number: 14\n",
            "The HCF of 2 numbers 12 and 14 is 2\n"
          ]
        }
      ]
    },
    {
      "cell_type": "code",
      "source": [
        "\n",
        "n1 = int(input(\"Enter the first number: \"))\n",
        "n2 = int(input(\"Enter the second number: \"))\n",
        "\n",
        "# Determine the larger of the two numbers\n",
        "if n1 > n2:\n",
        "    greater = n1\n",
        "else:\n",
        "    greater = n2\n",
        "\n",
        "while True:\n",
        "    if greater % n1 == 0 and greater % n2 == 0:\n",
        "        lcm = greater\n",
        "        break\n",
        "    greater += 1\n",
        "\n",
        "print(f\"The LCM of {n1} and {n2} is {lcm}\")"
      ],
      "metadata": {
        "colab": {
          "base_uri": "https://localhost:8080/"
        },
        "id": "T-T3BbXHfrXl",
        "outputId": "429607dc-a16b-4e21-fc90-cc3eadbfe982"
      },
      "execution_count": null,
      "outputs": [
        {
          "output_type": "stream",
          "name": "stdout",
          "text": [
            "Enter the first number: 12\n",
            "Enter the second number: 14\n",
            "The LCM of 12 and 14 is 84\n"
          ]
        }
      ]
    },
    {
      "cell_type": "code",
      "source": [
        "#square pattern\n",
        "n=int(input(\"Enter the number:\"))\n",
        "for i in range (n):\n",
        "    for j in range(n):\n",
        "        print(\"*\",end=\" \")\n",
        "    print()"
      ],
      "metadata": {
        "colab": {
          "base_uri": "https://localhost:8080/"
        },
        "id": "ngj1_IzFjmCJ",
        "outputId": "d3d7960e-89c6-4f26-c20b-7fd8f86d8567"
      },
      "execution_count": null,
      "outputs": [
        {
          "output_type": "stream",
          "name": "stdout",
          "text": [
            "Enter the number:5\n",
            "* * * * * \n",
            "* * * * * \n",
            "* * * * * \n",
            "* * * * * \n",
            "* * * * * \n"
          ]
        }
      ]
    },
    {
      "cell_type": "code",
      "source": [
        "num = [2,4,5,8,7,10]\n",
        "for i in range(num):"
      ],
      "metadata": {
        "id": "XGfE-3l5kaul"
      },
      "execution_count": null,
      "outputs": []
    },
    {
      "cell_type": "code",
      "source": [
        "n = input(\"Enter the string:\")\n",
        "reverse_str = int(str(n)[::-1])\n",
        "print(reverse_str)"
      ],
      "metadata": {
        "colab": {
          "base_uri": "https://localhost:8080/"
        },
        "id": "-r9hDpEZdyeT",
        "outputId": "0a22e414-a264-43c3-ee15-71f802863952"
      },
      "execution_count": null,
      "outputs": [
        {
          "output_type": "stream",
          "name": "stdout",
          "text": [
            "Enter the string:123\n",
            "321\n"
          ]
        }
      ]
    },
    {
      "cell_type": "code",
      "source": [
        "numbers = [12, 3, 45, 7, 2, 10]\n",
        "print(f\"The smallest number in the list is: {min(numbers)}\")"
      ],
      "metadata": {
        "colab": {
          "base_uri": "https://localhost:8080/"
        },
        "id": "dbNJM7fTgjGt",
        "outputId": "53cca4da-922e-47eb-cbdb-27e5198b232b"
      },
      "execution_count": null,
      "outputs": [
        {
          "output_type": "stream",
          "name": "stdout",
          "text": [
            "The smallest number in the list is: 2\n"
          ]
        }
      ]
    },
    {
      "cell_type": "code",
      "source": [
        "def Fibonacci(n):\n",
        "    a, b = 0, 1\n",
        "    series = []\n",
        "    for i in range(n):\n",
        "        series.append(a)\n",
        "        a, b = b, a + b\n",
        "    return series\n",
        "\n",
        "# Example usage\n",
        "n = 10  # Number of terms\n",
        "print(Fibonacci(n))"
      ],
      "metadata": {
        "colab": {
          "base_uri": "https://localhost:8080/"
        },
        "id": "pYosz4E2h71P",
        "outputId": "a10c779e-f77b-4bc3-ee8e-9dbd36f287d9"
      },
      "execution_count": null,
      "outputs": [
        {
          "output_type": "stream",
          "name": "stdout",
          "text": [
            "[0, 1, 1, 2, 3, 5, 8, 13, 21, 34]\n"
          ]
        }
      ]
    },
    {
      "cell_type": "code",
      "source": [
        "l = [2,3,5]\n",
        "print(\"The sum of numbers:\",sum(l))"
      ],
      "metadata": {
        "colab": {
          "base_uri": "https://localhost:8080/"
        },
        "id": "jvOvhlQLl2AT",
        "outputId": "c2ddc0cd-3ba7-4aa6-ba68-403451550098"
      },
      "execution_count": null,
      "outputs": [
        {
          "output_type": "stream",
          "name": "stdout",
          "text": [
            "The sum of numbers: 10\n"
          ]
        }
      ]
    }
  ]
}