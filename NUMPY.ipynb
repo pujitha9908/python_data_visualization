{
  "nbformat": 4,
  "nbformat_minor": 0,
  "metadata": {
    "colab": {
      "provenance": [],
      "mount_file_id": "1iPBrhQQ9-gyru5aP1wGc9ZoB99pmw5Ep",
      "authorship_tag": "ABX9TyOC94TUcEWOoc3acWW0yvgc",
      "include_colab_link": true
    },
    "kernelspec": {
      "name": "python3",
      "display_name": "Python 3"
    },
    "language_info": {
      "name": "python"
    }
  },
  "cells": [
    {
      "cell_type": "markdown",
      "metadata": {
        "id": "view-in-github",
        "colab_type": "text"
      },
      "source": [
        "<a href=\"https://colab.research.google.com/github/pujitha9908/python_data_visualization/blob/main/NUMPY.ipynb\" target=\"_parent\"><img src=\"https://colab.research.google.com/assets/colab-badge.svg\" alt=\"Open In Colab\"/></a>"
      ]
    },
    {
      "cell_type": "markdown",
      "source": [
        "**What is NumPy?**\n",
        "\n",
        "\n",
        "\n",
        "NumPy is a Python library used for working with arrays.\n",
        "\n",
        "It also has functions for working in domain of linear algebra, fourier transform, and matrices.\n",
        "\n",
        "NumPy was created in 2005 by Travis Oliphant. It is an open source project and you can use it freely.\n",
        "\n",
        "NumPy stands for Numerical Python."
      ],
      "metadata": {
        "id": "12kpI7-R7mEM"
      }
    },
    {
      "cell_type": "markdown",
      "source": [
        "**Why Use NumPy?**\n",
        "\n",
        "In Python we have lists that serve the purpose of arrays, but they are slow to process.\n",
        "\n",
        "NumPy aims to provide an array object that is up to 50x faster than traditional Python lists.\n",
        "\n",
        "The array object in NumPy is called ndarray, it provides a lot of supporting functions that make working with ndarray very easy.\n",
        "\n",
        "Arrays are very frequently used in data science, where speed and resources are very important."
      ],
      "metadata": {
        "id": "-CG0hvvQ7qC6"
      }
    },
    {
      "cell_type": "markdown",
      "source": [
        "**NumPy Creating Arrays**\n",
        "\n",
        "NumPy is used to work with arrays. The array object in NumPy is called ndarray.\n",
        "\n",
        " We can create a NumPy ndarray object by using the array() function.\n",
        "\n"
      ],
      "metadata": {
        "id": "hTE18uy_70JX"
      }
    },
    {
      "cell_type": "code",
      "source": [
        "import numpy as np"
      ],
      "metadata": {
        "id": "zz-DpTe_8LMi"
      },
      "execution_count": null,
      "outputs": []
    },
    {
      "cell_type": "code",
      "source": [
        "p = np.array([1,2,3,4,5])\n",
        "print(p)\n",
        "print(type(p))"
      ],
      "metadata": {
        "colab": {
          "base_uri": "https://localhost:8080/"
        },
        "id": "dDBDMvOA8yfO",
        "outputId": "868910e8-2602-4ea8-f995-e8f7ff5b2c05"
      },
      "execution_count": null,
      "outputs": [
        {
          "output_type": "stream",
          "name": "stdout",
          "text": [
            "[1 2 3 4 5]\n",
            "<class 'numpy.ndarray'>\n"
          ]
        }
      ]
    },
    {
      "cell_type": "markdown",
      "source": [
        "Dimensions of an array in NumPy are also called the Rank of an Array.\n",
        "\n",
        "Here, we will see how to check how many dimensions an array has used with the  numpy.ndarray.ndim. With that, we will also see some examples of creating 0D, 1D, 2D, and 3D arrays:\n",
        "\n",
        "Create a 0-Dimensional NumPy array and check the dimensions\n",
        "\n",
        "Create a 1-Dimensional NumPy array and check the dimensions\n",
        "\n",
        "Create a 2-Dimensional NumPy array and check the dimensions\n",
        "\n",
        "Create a 3-Dimensional NumPy array and check the dimensions"
      ],
      "metadata": {
        "id": "XS9EDkYQ9sKq"
      }
    },
    {
      "cell_type": "code",
      "source": [
        "# 0-D array\n",
        "import numpy as np\n",
        "\n",
        "n = np.array(25)\n",
        "print(n)"
      ],
      "metadata": {
        "colab": {
          "base_uri": "https://localhost:8080/"
        },
        "id": "4O4HKYBa9xgi",
        "outputId": "7ddf5bc0-3f0f-43d7-920b-b11cfdffc521"
      },
      "execution_count": null,
      "outputs": [
        {
          "output_type": "stream",
          "name": "stdout",
          "text": [
            "25\n"
          ]
        }
      ]
    },
    {
      "cell_type": "code",
      "source": [
        "# one - dimensional array\n",
        "\n",
        "import numpy as np\n",
        "\n",
        "n = np.array([10, 20, 30])\n",
        "print(n)"
      ],
      "metadata": {
        "colab": {
          "base_uri": "https://localhost:8080/"
        },
        "id": "0aVEr144-6rC",
        "outputId": "7cc1cca4-af06-4db9-e4ac-aac12cc64387"
      },
      "execution_count": null,
      "outputs": [
        {
          "output_type": "stream",
          "name": "stdout",
          "text": [
            "[10 20 30]\n"
          ]
        }
      ]
    },
    {
      "cell_type": "code",
      "source": [
        "#2-dimensional array\n",
        "import numpy as np\n",
        "\n",
        "n = np.array([[1,3,5],[4,8,12]])\n",
        "print(n)"
      ],
      "metadata": {
        "colab": {
          "base_uri": "https://localhost:8080/"
        },
        "id": "_5mKagRa_TKA",
        "outputId": "73688ba6-2a8c-4567-cb6c-40418bb78879"
      },
      "execution_count": null,
      "outputs": [
        {
          "output_type": "stream",
          "name": "stdout",
          "text": [
            "[[ 1  3  5]\n",
            " [ 4  8 12]]\n"
          ]
        }
      ]
    },
    {
      "cell_type": "code",
      "source": [
        "#3-Dimensional array\n",
        "import numpy as np\n",
        "\n",
        "n = np.array([[[1,2,3],[4,5,6]],[[7,8,9],[10,11,12]]])\n",
        "print(n)"
      ],
      "metadata": {
        "colab": {
          "base_uri": "https://localhost:8080/"
        },
        "id": "TxafYd_E_h8k",
        "outputId": "19f79cbf-3b8f-4624-86e2-4af6c136203a"
      },
      "execution_count": null,
      "outputs": [
        {
          "output_type": "stream",
          "name": "stdout",
          "text": [
            "[[[ 1  2  3]\n",
            "  [ 4  5  6]]\n",
            "\n",
            " [[ 7  8  9]\n",
            "  [10 11 12]]]\n"
          ]
        }
      ]
    },
    {
      "cell_type": "markdown",
      "source": [
        "**Initialize Numpy arrays**\n",
        "\n",
        "To Initialize NumPy arrays, use the  numpy.zeros() method. Using this method, initialize numpy arrays with zeros. Let us see some examples.\n",
        "\n",
        "Initialize numpy arrays with zeros\n",
        "Let us see an example to initialize numpy arrays with zeros. We are creating a 2×3 array with zeros:\n"
      ],
      "metadata": {
        "id": "DMxBt5DbAEml"
      }
    },
    {
      "cell_type": "code",
      "source": [
        "# intially zeros 2 rows and 3columns\n",
        "import numpy as np\n",
        "\n",
        "n = np.zeros([2, 3])\n",
        "print(n)\n",
        "print(type(n))\n"
      ],
      "metadata": {
        "colab": {
          "base_uri": "https://localhost:8080/"
        },
        "id": "Miaf5XoFAOlI",
        "outputId": "1ac75627-77c4-4d30-c6dd-d67ec7abf96c"
      },
      "execution_count": null,
      "outputs": [
        {
          "output_type": "stream",
          "name": "stdout",
          "text": [
            "[[0. 0. 0.]\n",
            " [0. 0. 0.]]\n",
            "<class 'numpy.ndarray'>\n"
          ]
        }
      ]
    },
    {
      "cell_type": "code",
      "source": [
        "import numpy as np\n",
        "n = np.ones([4,4])\n",
        "print(n)"
      ],
      "metadata": {
        "colab": {
          "base_uri": "https://localhost:8080/"
        },
        "id": "xbiDhfKpAoMo",
        "outputId": "50cf886f-fad2-4409-d0df-03e9aca930bd"
      },
      "execution_count": null,
      "outputs": [
        {
          "output_type": "stream",
          "name": "stdout",
          "text": [
            "[[1. 1. 1. 1.]\n",
            " [1. 1. 1. 1.]\n",
            " [1. 1. 1. 1.]\n",
            " [1. 1. 1. 1.]]\n"
          ]
        }
      ]
    },
    {
      "cell_type": "markdown",
      "source": [
        "**Datatypes in Numpy**\n",
        "\n",
        "\n",
        "b – boolean\n",
        "\n",
        "u – unsigned integer\n",
        "\n",
        "f – float\n",
        "\n",
        "c – complex float\n",
        "\n",
        "m – timedelta\n",
        "\n",
        "M – datetime\n",
        "\n",
        "O – object\n",
        "\n",
        "S – string\n",
        "\n",
        "U – unicode string\n",
        "\n",
        "Let us see some examples:\n",
        "\n",
        "Get the datatype of a NumPy array with integers\n",
        "\n",
        "Get the datatype of a NumPy array with strings\n",
        "\n",
        "Set the datatype size within a NumPy array\n",
        "\n",
        "Convert one datatype to another"
      ],
      "metadata": {
        "id": "jpG0k6v-A9sq"
      }
    },
    {
      "cell_type": "code",
      "source": [
        "#Get the datatype of a Numpy array with integers\n",
        "#To get the datatype of a Numpy array, use the dtype attribute. Let us see an example:\n",
        "n = np.array([1,2,3,4])\n",
        "print(n.dtype)"
      ],
      "metadata": {
        "colab": {
          "base_uri": "https://localhost:8080/"
        },
        "id": "EWboZ7BSBJrJ",
        "outputId": "e5164197-24bc-4d64-a734-ed4682f1b360"
      },
      "execution_count": null,
      "outputs": [
        {
          "output_type": "stream",
          "name": "stdout",
          "text": [
            "int64\n"
          ]
        }
      ]
    },
    {
      "cell_type": "code",
      "source": [
        "#string data type\n",
        "import numpy as np\n",
        "\n",
        "n = np.array([\"amit\", \"rohit\", \"ashwin\", \"jadeja\", \"virat\"])\n",
        "print(n.dtype)"
      ],
      "metadata": {
        "colab": {
          "base_uri": "https://localhost:8080/"
        },
        "id": "MCexV5xpBqYp",
        "outputId": "b4d0d168-240f-4643-f746-ec908140f060"
      },
      "execution_count": null,
      "outputs": [
        {
          "output_type": "stream",
          "name": "stdout",
          "text": [
            "<U6\n"
          ]
        }
      ]
    },
    {
      "cell_type": "markdown",
      "source": [
        "**Convert one datatype to another**\n",
        "\n",
        "Use the astype() to create a copy of an array and then set the new data type.\n",
        "\n",
        " This is how you can convert one type to another.\n",
        "\n",
        "In the example, we have an array of strings.\n",
        "\n",
        " We will convert it to an integer, with i as a parameter as shown below:\n",
        "\n"
      ],
      "metadata": {
        "id": "QVz4u4p_CIlO"
      }
    },
    {
      "cell_type": "code",
      "source": [
        "#converting one data type in to another data type\n",
        "import numpy as np\n",
        "\n",
        "n = np.array(['10', '20', '30', '40', '50'])\n",
        "print(n)\n",
        "print(n.dtype)\n",
        "\n",
        "n2 = n.astype('i')\n",
        "print(n2)\n",
        "print(n2.dtype)"
      ],
      "metadata": {
        "colab": {
          "base_uri": "https://localhost:8080/"
        },
        "id": "cZ0otCo1CMGi",
        "outputId": "b2e7cf53-78a5-4881-cc78-d685dee06e62"
      },
      "execution_count": null,
      "outputs": [
        {
          "output_type": "stream",
          "name": "stdout",
          "text": [
            "['10' '20' '30' '40' '50']\n",
            "<U2\n",
            "[10 20 30 40 50]\n",
            "int32\n"
          ]
        }
      ]
    },
    {
      "cell_type": "markdown",
      "source": [
        "**Slicing arrays**\n",
        "\n",
        "Slicing in python means taking elements from one given index to another given index.\n",
        "\n",
        "We pass slice instead of index like this: **[start:end].**\n",
        "\n",
        "We can also define the step, like this: **[start:end:step].**\n",
        "\n",
        "If we don't pass start its considered 0\n",
        "\n",
        "If we don't pass end its considered length of array in that dimension\n",
        "\n",
        "If we don't pass step its considered 1\n"
      ],
      "metadata": {
        "id": "Rh2O0r3KT3QE"
      }
    },
    {
      "cell_type": "code",
      "source": [
        "import numpy as np\n",
        "\n",
        "arr = np.array([1, 2, 3, 4, 5, 6, 7])\n",
        "\n",
        "print(arr[1:5])\n"
      ],
      "metadata": {
        "id": "1-jpd0IpUFAj"
      },
      "execution_count": null,
      "outputs": []
    },
    {
      "cell_type": "code",
      "source": [
        "import numpy as np\n",
        "\n",
        "arr = np.array([1, 2, 3, 4, 5, 6, 7])\n",
        "\n",
        "print(arr[:4])"
      ],
      "metadata": {
        "colab": {
          "base_uri": "https://localhost:8080/"
        },
        "id": "jb8Ty0usUYKF",
        "outputId": "0bcc9871-abfd-44f5-a7bc-ea7505058aa2"
      },
      "execution_count": null,
      "outputs": [
        {
          "output_type": "stream",
          "name": "stdout",
          "text": [
            "[1 2 3 4]\n"
          ]
        }
      ]
    },
    {
      "cell_type": "code",
      "source": [
        "#negative slicing\n",
        "arr = np.array([1,2,3,4,5,6])\n",
        "print(arr[-5:-1])"
      ],
      "metadata": {
        "colab": {
          "base_uri": "https://localhost:8080/"
        },
        "id": "6hghM1VzUnnu",
        "outputId": "8ef1ab77-9246-4b71-b213-8edffaf8a6b3"
      },
      "execution_count": null,
      "outputs": [
        {
          "output_type": "stream",
          "name": "stdout",
          "text": [
            "[2 3 4 5]\n"
          ]
        }
      ]
    },
    {
      "cell_type": "code",
      "source": [
        "#start:end:step\n",
        "arr = np.array([1,2,3,4,5,6])\n",
        "print(arr[1:4:2])"
      ],
      "metadata": {
        "colab": {
          "base_uri": "https://localhost:8080/"
        },
        "id": "EXA2ppsOVFLt",
        "outputId": "e6b1dbbd-059f-487e-954a-3556eb75f31a"
      },
      "execution_count": null,
      "outputs": [
        {
          "output_type": "stream",
          "name": "stdout",
          "text": [
            "[2 4]\n"
          ]
        }
      ]
    },
    {
      "cell_type": "code",
      "source": [
        "p = np.array([1,2,3,4,5,6,7])\n",
        "print(arr[::3])"
      ],
      "metadata": {
        "colab": {
          "base_uri": "https://localhost:8080/"
        },
        "id": "zbRba5sPVrUy",
        "outputId": "bdf0ba4f-e9d2-4821-a635-6c16e621f5b5"
      },
      "execution_count": null,
      "outputs": [
        {
          "output_type": "stream",
          "name": "stdout",
          "text": [
            "[1 4]\n"
          ]
        }
      ]
    },
    {
      "cell_type": "code",
      "source": [
        "arr = np.array([[1, 2, 3, 4, 5], [6, 7, 8, 9, 10]])\n",
        "\n",
        "print(arr[1, 1:4])"
      ],
      "metadata": {
        "colab": {
          "base_uri": "https://localhost:8080/"
        },
        "id": "RPRx70KtWq2W",
        "outputId": "7af09963-18af-4999-b6e3-5ea5885e7560"
      },
      "execution_count": null,
      "outputs": [
        {
          "output_type": "stream",
          "name": "stdout",
          "text": [
            "[7 8 9]\n"
          ]
        }
      ]
    },
    {
      "cell_type": "code",
      "source": [
        "import numpy as np\n",
        "\n",
        "arr = np.array([[1, 2, 3, 4, 5], [6, 7, 8, 9, 10]])\n",
        "\n",
        "print(arr[0:2, 2])"
      ],
      "metadata": {
        "colab": {
          "base_uri": "https://localhost:8080/"
        },
        "id": "JzUMPbUfXhq8",
        "outputId": "9d5bc336-97cb-4a17-db2d-12b1ec0aef85"
      },
      "execution_count": null,
      "outputs": [
        {
          "output_type": "stream",
          "name": "stdout",
          "text": [
            "[3 8]\n"
          ]
        }
      ]
    },
    {
      "cell_type": "code",
      "source": [
        "import numpy as np\n",
        "\n",
        "arr = np.array([[1, 2, 3, 4, 5], [6, 7, 8, 9, 10]])\n",
        "\n",
        "print(arr[0:2, 1:4])"
      ],
      "metadata": {
        "colab": {
          "base_uri": "https://localhost:8080/"
        },
        "id": "W-3_7WawZDFn",
        "outputId": "abce9ee4-2de5-475a-e172-8ec741bd1b2c"
      },
      "execution_count": null,
      "outputs": [
        {
          "output_type": "stream",
          "name": "stdout",
          "text": [
            "[[2 3 4]\n",
            " [7 8 9]]\n"
          ]
        }
      ]
    },
    {
      "cell_type": "markdown",
      "source": [
        "**The Difference Between Copy and View**\n",
        "\n",
        "The main difference between a copy and a view of an array is that the copy is a new array, and the view is just a view of the original array.\n",
        "\n",
        "\n",
        "The copy owns the data and any changes made to the copy will not affect original array, and any changes made to the original array will not affect the copy.\n",
        "\n",
        "\n",
        "The view does not own the data and any changes made to the view will affect the original array, and any changes made to the original array will affect the view.\n",
        "\n"
      ],
      "metadata": {
        "id": "XB8eDFTEbQD3"
      }
    },
    {
      "cell_type": "code",
      "source": [
        "#copying the array to the new variable\n",
        "arr = np.array([1, 2, 3, 4, 5])\n",
        "x = arr.copy()\n",
        "arr[0] = 42\n",
        "\n",
        "print(arr)\n",
        "print(x)"
      ],
      "metadata": {
        "colab": {
          "base_uri": "https://localhost:8080/"
        },
        "id": "UmudXj-obVm4",
        "outputId": "850955c1-6939-4d99-94c1-8a7ea4217bec"
      },
      "execution_count": null,
      "outputs": [
        {
          "output_type": "stream",
          "name": "stdout",
          "text": [
            "[42  2  3  4  5]\n",
            "[1 2 3 4 5]\n"
          ]
        }
      ]
    },
    {
      "cell_type": "code",
      "source": [
        "#viewing the present array\n",
        "arr = np.array([1, 2, 3, 4, 5])\n",
        "x = arr.view()\n",
        "arr[0] = 42\n",
        "\n",
        "print(arr)\n",
        "print(x)"
      ],
      "metadata": {
        "colab": {
          "base_uri": "https://localhost:8080/"
        },
        "id": "LKA91uzXbpYm",
        "outputId": "edebb41a-e3c8-4547-cbfd-f56cb8fa83c5"
      },
      "execution_count": null,
      "outputs": [
        {
          "output_type": "stream",
          "name": "stdout",
          "text": [
            "[42  2  3  4  5]\n",
            "[42  2  3  4  5]\n"
          ]
        }
      ]
    },
    {
      "cell_type": "markdown",
      "source": [
        "**Check if Array Owns its Data**\n",
        "\n",
        "\n",
        "Every NumPy array has the attribute base that returns None if the array owns the data.\n",
        "\n",
        "Otherwise, the base  attribute refers to the original object."
      ],
      "metadata": {
        "id": "d2jG142zcc_D"
      }
    },
    {
      "cell_type": "code",
      "source": [
        "arr = np.array([1, 2, 3, 4, 5])\n",
        "x = arr.view()\n",
        "y = arr.copy()\n",
        "\n",
        "print(x.base)\n",
        "print(y.base)"
      ],
      "metadata": {
        "colab": {
          "base_uri": "https://localhost:8080/"
        },
        "id": "S-ctBlm1cf_E",
        "outputId": "918ed428-de91-43c1-85cf-4800e5d4cdf6"
      },
      "execution_count": null,
      "outputs": [
        {
          "output_type": "stream",
          "name": "stdout",
          "text": [
            "[1 2 3 4 5]\n",
            "None\n"
          ]
        }
      ]
    },
    {
      "cell_type": "markdown",
      "source": [
        "\n",
        "**Shape of an Array **\n",
        "\n",
        "The shape of an array is the number of elements in each dimension.\n",
        "\n",
        "NumPy arrays have an attribute called shape that returns a tuple with each index having the number of corresponding elements."
      ],
      "metadata": {
        "id": "QVKSB23Sc3uT"
      }
    },
    {
      "cell_type": "code",
      "source": [
        "import numpy as np\n",
        "\n",
        "arr = np.array([[1, 2, 3, 4], [5, 6, 7, 8]])\n",
        "\n",
        "print(arr.shape)"
      ],
      "metadata": {
        "colab": {
          "base_uri": "https://localhost:8080/"
        },
        "id": "FqWHvizgdFzc",
        "outputId": "36d2261b-00a0-42ba-cb78-11cd7fdaa7dc"
      },
      "execution_count": null,
      "outputs": [
        {
          "output_type": "stream",
          "name": "stdout",
          "text": [
            "(2, 4)\n"
          ]
        }
      ]
    },
    {
      "cell_type": "markdown",
      "source": [
        "**Reshaping arrays**\n",
        "\n",
        "Reshaping means changing the shape of an array.\n",
        "\n",
        "The shape of an array is the number of elements in each dimension.\n",
        "\n",
        "By reshaping we can add or remove dimensions or change number of elements in each dimension"
      ],
      "metadata": {
        "id": "9HTLeSuPdVz6"
      }
    },
    {
      "cell_type": "code",
      "source": [
        "import numpy as np\n",
        "\n",
        "arr = np.array([1, 2, 3, 4, 5, 6, 7, 8, 9, 10, 11, 12])\n",
        "\n",
        "newarr = arr.reshape(4, 3)\n",
        "\n",
        "print(newarr)"
      ],
      "metadata": {
        "colab": {
          "base_uri": "https://localhost:8080/"
        },
        "id": "wPvkuyfBdY0r",
        "outputId": "16158321-46db-4cdf-fd0e-0d26d83cfe87"
      },
      "execution_count": null,
      "outputs": [
        {
          "output_type": "stream",
          "name": "stdout",
          "text": [
            "[[ 1  2  3]\n",
            " [ 4  5  6]\n",
            " [ 7  8  9]\n",
            " [10 11 12]]\n"
          ]
        }
      ]
    },
    {
      "cell_type": "code",
      "source": [
        "arr = np.array([1, 2, 3, 4, 5, 6, 7, 8, 9, 10, 11, 12])\n",
        "\n",
        "newarr = arr.reshape(2, 3, 2)  # 2 matrics , 3rows,2columns\n",
        "\n",
        "print(newarr)"
      ],
      "metadata": {
        "colab": {
          "base_uri": "https://localhost:8080/"
        },
        "id": "5sOezzqYdw6O",
        "outputId": "b3b75d7c-77f7-4080-cb99-2e64e1460b7b"
      },
      "execution_count": null,
      "outputs": [
        {
          "output_type": "stream",
          "name": "stdout",
          "text": [
            "[[[ 1  2]\n",
            "  [ 3  4]\n",
            "  [ 5  6]]\n",
            "\n",
            " [[ 7  8]\n",
            "  [ 9 10]\n",
            "  [11 12]]]\n"
          ]
        }
      ]
    },
    {
      "cell_type": "markdown",
      "source": [
        "**Iterating Arrays**\n",
        "\n",
        "Iterating means going through elements one by one.\n",
        "\n",
        "As we deal with multi-dimensional arrays in numpy, we can do this using basic for loop of python.\n",
        "\n",
        "If we iterate on a 1-D array it will go through each element one by one."
      ],
      "metadata": {
        "id": "HkXwONpVfEsf"
      }
    },
    {
      "cell_type": "code",
      "source": [
        "#iterating the 1-D array\n",
        "import numpy as np\n",
        "\n",
        "arr = np.array([1, 2, 3])\n",
        "\n",
        "for x in arr:\n",
        "  print(x)"
      ],
      "metadata": {
        "colab": {
          "base_uri": "https://localhost:8080/"
        },
        "id": "yX7bv2Q5fH_d",
        "outputId": "dab3b50e-f404-4f0f-9ed7-ca5780af308d"
      },
      "execution_count": null,
      "outputs": [
        {
          "output_type": "stream",
          "name": "stdout",
          "text": [
            "1\n",
            "2\n",
            "3\n"
          ]
        }
      ]
    },
    {
      "cell_type": "code",
      "source": [
        "#iterating the 2-D array\n",
        "\n",
        "arr = np.array([[1,2,3,4],[5,6,7,8]])\n",
        "for x in arr:\n",
        "  print(x)"
      ],
      "metadata": {
        "colab": {
          "base_uri": "https://localhost:8080/"
        },
        "id": "RzpnF3AOfhTK",
        "outputId": "748d628b-01a7-4f60-c1cf-661e8ecb4f17"
      },
      "execution_count": null,
      "outputs": [
        {
          "output_type": "stream",
          "name": "stdout",
          "text": [
            "[1 2 3 4]\n",
            "[5 6 7 8]\n"
          ]
        }
      ]
    },
    {
      "cell_type": "code",
      "source": [
        "#iterating the three array\n",
        "arr = np.array([[[1,2,3],[4,5,6]],[[7,8,9],[10,11,12]]])\n",
        "for x in arr:\n",
        "  for y in x:\n",
        "    for z in y:\n",
        "        print(z)"
      ],
      "metadata": {
        "colab": {
          "base_uri": "https://localhost:8080/"
        },
        "id": "_Y45OujVgh69",
        "outputId": "8201588e-a6ac-4315-dc2c-da0a8d5c6cce"
      },
      "execution_count": null,
      "outputs": [
        {
          "output_type": "stream",
          "name": "stdout",
          "text": [
            "1\n",
            "2\n",
            "3\n",
            "4\n",
            "5\n",
            "6\n",
            "7\n",
            "8\n",
            "9\n",
            "10\n",
            "11\n",
            "12\n"
          ]
        }
      ]
    },
    {
      "cell_type": "markdown",
      "source": [
        "**Iterating Arrays Using nditer()**\n",
        "\n",
        "The function nditer() is a helping function that can be used from very basic to very advanced iterations.\n",
        "\n",
        " It solves some basic issues which we face in iteration, lets go through it with examples."
      ],
      "metadata": {
        "id": "q8PkH-_mg7Z4"
      }
    },
    {
      "cell_type": "code",
      "source": [
        "arr = np.array([[[1, 2], [3, 4]], [[5, 6], [7, 8]]])\n",
        "for x in np.nditer(arr):\n",
        "  print(x)"
      ],
      "metadata": {
        "colab": {
          "base_uri": "https://localhost:8080/"
        },
        "id": "TYQVpnGAg_uq",
        "outputId": "b380bebb-2a6e-46f5-bbe4-a8c9fdc4f0f4"
      },
      "execution_count": null,
      "outputs": [
        {
          "output_type": "stream",
          "name": "stdout",
          "text": [
            "1\n",
            "2\n",
            "3\n",
            "4\n",
            "5\n",
            "6\n",
            "7\n",
            "8\n"
          ]
        }
      ]
    },
    {
      "cell_type": "markdown",
      "source": [
        "**Splitting NumPy Arrays**\n",
        "\n",
        "Splitting is reverse operation of Joining.\n",
        "\n",
        "Joining merges multiple arrays into one and Splitting breaks one array into multiple.\n",
        "\n",
        "We use array_split() for splitting arrays, we pass it the array we want to split and the number of splits."
      ],
      "metadata": {
        "id": "ugemdzPnh6Np"
      }
    },
    {
      "cell_type": "code",
      "source": [
        "arr = np.array([1, 2, 3, 4, 5, 6])\n",
        "\n",
        "newarr = np.array_split(arr, 3)\n",
        "\n",
        "print(newarr)"
      ],
      "metadata": {
        "colab": {
          "base_uri": "https://localhost:8080/"
        },
        "id": "qmlS9B9Lh91I",
        "outputId": "9e7b7289-0429-4233-dd9b-272110f573a1"
      },
      "execution_count": null,
      "outputs": [
        {
          "output_type": "stream",
          "name": "stdout",
          "text": [
            "[array([1, 2]), array([3, 4]), array([5, 6])]\n"
          ]
        }
      ]
    },
    {
      "cell_type": "code",
      "source": [
        "import numpy as np\n",
        "\n",
        "arr = np.array([1, 2, 3, 4, 5, 6])\n",
        "\n",
        "newarr = np.array_split(arr, 3)\n",
        "\n",
        "print(newarr[0])\n",
        "print(newarr[1])\n",
        "print(newarr[2])\n"
      ],
      "metadata": {
        "colab": {
          "base_uri": "https://localhost:8080/"
        },
        "id": "ZqVnrAKsiJUG",
        "outputId": "29c3b9f5-fbf7-49b9-8f4c-0d3d1dcc294d"
      },
      "execution_count": null,
      "outputs": [
        {
          "output_type": "stream",
          "name": "stdout",
          "text": [
            "[1 2]\n",
            "[3 4]\n",
            "[5 6]\n"
          ]
        }
      ]
    },
    {
      "cell_type": "code",
      "source": [
        "import numpy as np\n",
        "\n",
        "arr = np.array([[1, 2], [3, 4], [5, 6], [7, 8], [9, 10], [11, 12]])\n",
        "\n",
        "newarr = np.array_split(arr, 4)\n",
        "\n",
        "print(newarr)"
      ],
      "metadata": {
        "colab": {
          "base_uri": "https://localhost:8080/"
        },
        "id": "GkcUYL0liL0Q",
        "outputId": "4d1070a5-3f6c-40b5-f640-075ce1c3bcb7"
      },
      "execution_count": null,
      "outputs": [
        {
          "output_type": "stream",
          "name": "stdout",
          "text": [
            "[array([[1, 2],\n",
            "       [3, 4]]), array([[5, 6],\n",
            "       [7, 8]]), array([[ 9, 10]]), array([[11, 12]])]\n"
          ]
        }
      ]
    },
    {
      "cell_type": "markdown",
      "source": [
        "**Searching Arrays**\n",
        "\n",
        "You can search an array for a certain value, and return the indexes that get a match.\n",
        "\n",
        "To search an array, use the where() method."
      ],
      "metadata": {
        "id": "twgq6BE2ijXf"
      }
    },
    {
      "cell_type": "code",
      "source": [
        "arr = np.array([1,2,3,4,5,6,7,8,9])\n",
        "x = np.where(arr==3)\n",
        "print(x)"
      ],
      "metadata": {
        "colab": {
          "base_uri": "https://localhost:8080/"
        },
        "id": "qAYeeFEHimj5",
        "outputId": "eb452a26-70e8-4728-ba19-8f9892b87193"
      },
      "execution_count": null,
      "outputs": [
        {
          "output_type": "stream",
          "name": "stdout",
          "text": [
            "(array([2]),)\n"
          ]
        }
      ]
    },
    {
      "cell_type": "code",
      "source": [
        "#Find the indexes where the values are even:\n",
        "arr = np.array([1, 2, 3, 4, 5, 6, 7, 8])\n",
        "\n",
        "x = np.where(arr%2 == 0)\n",
        "\n",
        "print(x)"
      ],
      "metadata": {
        "colab": {
          "base_uri": "https://localhost:8080/"
        },
        "id": "GkMZOKCfjJW5",
        "outputId": "d9023f52-3346-4de0-d5d6-e5c003f4541e"
      },
      "execution_count": null,
      "outputs": [
        {
          "output_type": "stream",
          "name": "stdout",
          "text": [
            "(array([1, 3, 5, 7]),)\n"
          ]
        }
      ]
    },
    {
      "cell_type": "code",
      "source": [
        "#Find the indexes where the values are odd:\n",
        "arr = np.array([1, 2, 3, 4, 5, 6, 7, 8])\n",
        "\n",
        "x = np.where(arr%2 == 1)\n",
        "\n",
        "print(x)"
      ],
      "metadata": {
        "colab": {
          "base_uri": "https://localhost:8080/"
        },
        "id": "kkzUkR0IjWIh",
        "outputId": "1b4bcc17-49f8-4431-88c7-ec7b3790ae0a"
      },
      "execution_count": null,
      "outputs": [
        {
          "output_type": "stream",
          "name": "stdout",
          "text": [
            "(array([0, 2, 4, 6]),)\n"
          ]
        }
      ]
    },
    {
      "cell_type": "markdown",
      "source": [
        "**Sorting Arrays**\n",
        "\n",
        "Sorting means putting elements in an ordered sequence.\n",
        "\n",
        "Ordered sequence is any sequence that has an order corresponding to elements, like numeric or alphabetical, ascending or descending.\n",
        "\n",
        "The NumPy ndarray object has a function called sort(), that will sort a specified array."
      ],
      "metadata": {
        "id": "JgreyAookA0R"
      }
    },
    {
      "cell_type": "code",
      "source": [
        "import numpy as np\n",
        "\n",
        "arr = np.array([3, 2, 0, 1])\n",
        "\n",
        "print(np.sort(arr))\n"
      ],
      "metadata": {
        "colab": {
          "base_uri": "https://localhost:8080/"
        },
        "id": "gumwaPR-kERH",
        "outputId": "f0653316-5856-4576-cc8b-123cc70b95dc"
      },
      "execution_count": null,
      "outputs": [
        {
          "output_type": "stream",
          "name": "stdout",
          "text": [
            "[0 1 2 3]\n"
          ]
        }
      ]
    },
    {
      "cell_type": "code",
      "source": [
        "import numpy as np\n",
        "\n",
        "arr = np.array(['banana', 'cherry', 'apple'])\n",
        "\n",
        "print(np.sort(arr))"
      ],
      "metadata": {
        "colab": {
          "base_uri": "https://localhost:8080/"
        },
        "id": "BjbfL9YtkKWP",
        "outputId": "73bc5b5a-7a1d-4082-b91b-904d526de0d1"
      },
      "execution_count": null,
      "outputs": [
        {
          "output_type": "stream",
          "name": "stdout",
          "text": [
            "['apple' 'banana' 'cherry']\n"
          ]
        }
      ]
    },
    {
      "cell_type": "code",
      "source": [
        "import numpy as np\n",
        "\n",
        "arr = np.array([True, False, True])\n",
        "\n",
        "print(np.sort(arr))\n"
      ],
      "metadata": {
        "colab": {
          "base_uri": "https://localhost:8080/"
        },
        "id": "FPaaQ2BekOwo",
        "outputId": "c552df5a-de47-4f28-ab78-da52862dec23"
      },
      "execution_count": null,
      "outputs": [
        {
          "output_type": "stream",
          "name": "stdout",
          "text": [
            "[False  True  True]\n"
          ]
        }
      ]
    }
  ]
}